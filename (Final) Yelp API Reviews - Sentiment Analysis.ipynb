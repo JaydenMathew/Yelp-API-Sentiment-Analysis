{
 "cells": [
  {
   "cell_type": "markdown",
   "id": "11fc9d07cfe7a3df",
   "metadata": {},
   "source": [
    "## Jayden Mathew\n",
    "## 4/23/2024\n",
    "## Yelp API Sentiment Analysis on Reviews"
   ]
  },
  {
   "cell_type": "markdown",
   "id": "2456858198bc0de4",
   "metadata": {},
   "source": [
    "### Question: How good are different sushi restaurants/businesses in New Brunswick, New Jersey?\n",
    "\n",
    "#### Through the use of sentiment analysis on Yelp reviews, it can be understood how well consumers enjoy sushi in the New Brunswick area."
   ]
  },
  {
   "cell_type": "markdown",
   "id": "92603adef4950084",
   "metadata": {},
   "source": [
    "#### Import statements"
   ]
  },
  {
   "cell_type": "code",
   "execution_count": 13,
   "id": "initial_id",
   "metadata": {},
   "outputs": [],
   "source": [
    "import requests\n",
    "\n",
    "import yelpkeys # file where client_id and api_key is defined with user's private app information\n",
    "import nltk\n",
    "from textblob import TextBlob\n",
    "from textblob.sentiments import NaiveBayesAnalyzer\n",
    "from wordcloud import WordCloud\n",
    "import matplotlib.pyplot as plt\n",
    "from collections import Counter"
   ]
  },
  {
   "cell_type": "code",
   "execution_count": 14,
   "id": "560eb5809d26a151",
   "metadata": {},
   "outputs": [],
   "source": [
    "APIKEY = yelpkeys.api_key\n",
    "headers = {'Authorization': 'Bearer %s' % yelpkeys.api_key,}"
   ]
  },
  {
   "cell_type": "markdown",
   "id": "c60142c97f2f6e11",
   "metadata": {},
   "source": [
    "#### Yelp Fusion API code"
   ]
  },
  {
   "cell_type": "code",
   "execution_count": 16,
   "id": "5f996f4d4b49ca50",
   "metadata": {},
   "outputs": [],
   "source": [
    "from __future__ import print_function\n",
    "\n",
    "import argparse\n",
    "import json\n",
    "import pprint\n",
    "import requests\n",
    "import sys\n",
    "import urllib\n",
    "\n",
    "\n",
    "# This client code can run on Python 2.x or 3.x.  Your imports can be\n",
    "# simpler if you only need one of those.\n",
    "try:\n",
    "    # For Python 3.0 and later\n",
    "    from urllib.error import HTTPError\n",
    "    from urllib.parse import quote\n",
    "    from urllib.parse import urlencode\n",
    "except ImportError:\n",
    "    # Fall back to Python 2's urllib2 and urllib\n",
    "    from urllib import HTTPError\n",
    "    from urllib import quote\n",
    "    from urllib import urlencode\n",
    "\n",
    "\n",
    "# Yelp Fusion no longer uses OAuth as of December 7, 2017.\n",
    "# You no longer need to provide Client ID to fetch Data\n",
    "# It now uses private keys to authenticate requests (API Key)\n",
    "# You can find it on\n",
    "# https://www.yelp.com/developers/v3/manage_app\n",
    "API_KEY= yelpkeys.api_key\n",
    "\n",
    "\n",
    "# API constants, you shouldn't have to change these.\n",
    "API_HOST = 'https://api.yelp.com'\n",
    "SEARCH_PATH = '/v3/businesses/search'\n",
    "BUSINESS_PATH = '/v3/businesses/'  # Business ID will come after slash.\n",
    "\n",
    "\n",
    "# Defaults for our simple example.\n",
    "DEFAULT_TERM = 'Sushi'\n",
    "DEFAULT_LOCATION = 'New Brunswick, NJ'\n",
    "SEARCH_LIMIT = 20\n",
    "\n",
    "\n",
    "def request(host, path, api_key, url_params=None):\n",
    "    \"\"\"Given your API_KEY, send a GET request to the API.\n",
    "    Args:\n",
    "        host (str): The domain host of the API.\n",
    "        path (str): The path of the API after the domain.\n",
    "        API_KEY (str): Your API Key.\n",
    "        url_params (dict): An optional set of query parameters in the request.\n",
    "    Returns:\n",
    "        dict: The JSON response from the request.\n",
    "    Raises:\n",
    "        HTTPError: An error occurs from the HTTP request.\n",
    "    \"\"\"\n",
    "    url_params = url_params or {}\n",
    "    url = '{0}{1}'.format(host, quote(path.encode('utf8')))\n",
    "    headers = {\n",
    "        'Authorization': 'Bearer %s' % api_key,\n",
    "    }\n",
    "\n",
    "    print(u'Querying {0} ...'.format(url))\n",
    "\n",
    "    response = requests.request('GET', url, headers=headers, params=url_params)\n",
    "\n",
    "    return response.json()\n",
    "\n",
    "\n",
    "def search(api_key, term, location):\n",
    "    \"\"\"Query the Search API by a search term and location.\n",
    "    Args:\n",
    "        term (str): The search term passed to the API.\n",
    "        location (str): The search location passed to the API.\n",
    "    Returns:\n",
    "        dict: The JSON response from the request.\n",
    "    \"\"\"\n",
    "\n",
    "    url_params = {\n",
    "        'term': term.replace(' ', '+'),\n",
    "        'location': location.replace(' ', '+'),\n",
    "        'limit': SEARCH_LIMIT\n",
    "    }\n",
    "    return request(API_HOST, SEARCH_PATH, api_key, url_params=url_params)\n",
    "\n",
    "\n",
    "def get_business(api_key, business_id):\n",
    "    \"\"\"Query the Business API by a business ID.\n",
    "    Args:\n",
    "        business_id (str): The ID of the business to query.\n",
    "    Returns:\n",
    "        dict: The JSON response from the request.\n",
    "    \"\"\"\n",
    "    business_path = BUSINESS_PATH + business_id\n",
    "\n",
    "    return request(API_HOST, business_path, api_key)\n",
    "\n",
    "\n",
    "def query_api(term, location):\n",
    "    \"\"\"Queries the API by the input values from the user.\n",
    "    Args:\n",
    "        term (str): The search term to query.\n",
    "        location (str): The location of the business to query.\n",
    "    \"\"\"\n",
    "    response = search(API_KEY, term, location)\n",
    "\n",
    "    businesses = response.get('businesses')\n",
    "\n",
    "    if not businesses:\n",
    "        print(u'No businesses for {0} in {1} found.'.format(term, location))\n",
    "        return\n",
    "\n",
    "    business_id = businesses[0]['id']\n",
    "\n",
    "    print(u'{0} businesses found, querying business info ' \\\n",
    "        'for the top result \"{1}\" ...'.format(\n",
    "            len(businesses), business_id))\n",
    "    response = get_business(API_KEY, business_id)\n",
    "\n",
    "    print(u'Result for business \"{0}\" found:'.format(business_id))\n",
    "    pprint.pprint(response, indent=2)"
   ]
  },
  {
   "cell_type": "markdown",
   "id": "d617cf3517b084f4",
   "metadata": {},
   "source": [
    "### Prints response, the variable containing all the businesses, reviews, etc., from the search factors on Yelp API."
   ]
  },
  {
   "cell_type": "code",
   "execution_count": 17,
   "id": "de287ee29bc303e5",
   "metadata": {},
   "outputs": [
    {
     "name": "stdout",
     "output_type": "stream",
     "text": [
      "Querying https://api.yelp.com/v3/businesses/search ...\n",
      "{'businesses': [{'id': 'LdWYqYi-EdMayOMMjbNWjA', 'alias': 'sakana-sushi-and-japanese-cuisine-new-brunswick', 'name': 'Sakana Sushi & Japanese Cuisine', 'image_url': 'https://s3-media3.fl.yelpcdn.com/bphoto/SKnlWogarSHsQgmNeGo-Fg/o.jpg', 'is_closed': False, 'url': 'https://www.yelp.com/biz/sakana-sushi-and-japanese-cuisine-new-brunswick?adjust_creative=Xr01iyL_bx8Dr_7vMcc3Hw&utm_campaign=yelp_api_v3&utm_medium=api_v3_business_search&utm_source=Xr01iyL_bx8Dr_7vMcc3Hw', 'review_count': 120, 'categories': [{'alias': 'sushi', 'title': 'Sushi Bars'}, {'alias': 'japanese', 'title': 'Japanese'}], 'rating': 4.0, 'coordinates': {'latitude': 40.493972, 'longitude': -74.444027}, 'transactions': ['restaurant_reservation', 'delivery', 'pickup'], 'price': '$$', 'location': {'address1': '338 George St', 'address2': None, 'address3': '', 'city': 'New Brunswick', 'zip_code': '08901', 'country': 'US', 'state': 'NJ', 'display_address': ['338 George St', 'New Brunswick, NJ 08901']}, 'phone': '+17328679308', 'display_phone': '(732) 867-9308', 'distance': 690.1294592591164, 'attributes': {'business_temp_closed': None, 'menu_url': 'https://www.sakananewbrunswick.com/menu', 'open24_hours': None, 'waitlist_reservation': True}}, {'id': 'BxUCY9fiTKQiU-CTLqK2XA', 'alias': 'midori-sushi-highland-park', 'name': 'Midori Sushi', 'image_url': 'https://s3-media2.fl.yelpcdn.com/bphoto/QbzvE5z8jcNYLA1dG7zqCw/o.jpg', 'is_closed': False, 'url': 'https://www.yelp.com/biz/midori-sushi-highland-park?adjust_creative=Xr01iyL_bx8Dr_7vMcc3Hw&utm_campaign=yelp_api_v3&utm_medium=api_v3_business_search&utm_source=Xr01iyL_bx8Dr_7vMcc3Hw', 'review_count': 321, 'categories': [{'alias': 'japanese', 'title': 'Japanese'}, {'alias': 'sushi', 'title': 'Sushi Bars'}], 'rating': 3.8, 'coordinates': {'latitude': 40.49922, 'longitude': -74.42867}, 'transactions': ['pickup', 'delivery'], 'price': '$$', 'location': {'address1': '237 Raritan Ave', 'address2': '', 'address3': '', 'city': 'Highland Park', 'zip_code': '08904', 'country': 'US', 'state': 'NJ', 'display_address': ['237 Raritan Ave', 'Highland Park, NJ 08904']}, 'phone': '+17322464511', 'display_phone': '(732) 246-4511', 'distance': 1597.2618120139696, 'attributes': {'business_temp_closed': None, 'menu_url': 'http://www.midorisushinj.com/Default.aspx', 'open24_hours': None, 'waitlist_reservation': None}}, {'id': 'DlnJ-PMEEHweFMbprG0qFQ', 'alias': 'mr-pis-sushi-and-japanese-restaurant-highland-park', 'name': \"Mr. Pi's Sushi & Japanese Restaurant\", 'image_url': 'https://s3-media4.fl.yelpcdn.com/bphoto/ve6JMAaGI3jxmyMqIKt6eQ/o.jpg', 'is_closed': False, 'url': 'https://www.yelp.com/biz/mr-pis-sushi-and-japanese-restaurant-highland-park?adjust_creative=Xr01iyL_bx8Dr_7vMcc3Hw&utm_campaign=yelp_api_v3&utm_medium=api_v3_business_search&utm_source=Xr01iyL_bx8Dr_7vMcc3Hw', 'review_count': 39, 'categories': [{'alias': 'sushi', 'title': 'Sushi Bars'}, {'alias': 'japanese', 'title': 'Japanese'}], 'rating': 4.2, 'coordinates': {'latitude': 40.4992294, 'longitude': -74.42814549908267}, 'transactions': ['pickup', 'delivery'], 'location': {'address1': '247 Raritan Ave', 'address2': '', 'address3': None, 'city': 'Highland Park', 'zip_code': '08904', 'country': 'US', 'state': 'NJ', 'display_address': ['247 Raritan Ave', 'Highland Park, NJ 08904']}, 'phone': '+19089989288', 'display_phone': '(908) 998-9288', 'distance': 1636.017369016085, 'attributes': {'business_temp_closed': None, 'menu_url': 'https://mrpisushi.com/our-menu-2/', 'open24_hours': None, 'waitlist_reservation': None}}, {'id': 'VWGxzW6k5xWsKkqezidjCQ', 'alias': 'sushi-o-asian-bistro-edison', 'name': 'Sushi O Asian Bistro', 'image_url': 'https://s3-media4.fl.yelpcdn.com/bphoto/ZkgBzw-eMiOcfhXSXsuZzg/o.jpg', 'is_closed': False, 'url': 'https://www.yelp.com/biz/sushi-o-asian-bistro-edison?adjust_creative=Xr01iyL_bx8Dr_7vMcc3Hw&utm_campaign=yelp_api_v3&utm_medium=api_v3_business_search&utm_source=Xr01iyL_bx8Dr_7vMcc3Hw', 'review_count': 314, 'categories': [{'alias': 'japanese', 'title': 'Japanese'}, {'alias': 'asianfusion', 'title': 'Asian Fusion'}, {'alias': 'sushi', 'title': 'Sushi Bars'}], 'rating': 3.9, 'coordinates': {'latitude': 40.5087748202378, 'longitude': -74.39104568834334}, 'transactions': ['pickup', 'delivery'], 'price': '$$', 'location': {'address1': '691 Us-1', 'address2': '', 'address3': '', 'city': 'Edison', 'zip_code': '08817', 'country': 'US', 'state': 'NJ', 'display_address': ['691 Us-1', 'Edison, NJ 08817']}, 'phone': '+17325720000', 'display_phone': '(732) 572-0000', 'distance': 4800.218270140851, 'attributes': {'business_temp_closed': None, 'menu_url': None, 'open24_hours': None, 'waitlist_reservation': None}}, {'id': 'eC7uLsuGFhWwstTOXurTpg', 'alias': 'east-hana-japanese-restaurant-east-brunswick', 'name': 'East Hana Japanese Restaurant', 'image_url': 'https://s3-media2.fl.yelpcdn.com/bphoto/zHpNULDjUVs7ppGyYozOuQ/o.jpg', 'is_closed': False, 'url': 'https://www.yelp.com/biz/east-hana-japanese-restaurant-east-brunswick?adjust_creative=Xr01iyL_bx8Dr_7vMcc3Hw&utm_campaign=yelp_api_v3&utm_medium=api_v3_business_search&utm_source=Xr01iyL_bx8Dr_7vMcc3Hw', 'review_count': 195, 'categories': [{'alias': 'japanese', 'title': 'Japanese'}, {'alias': 'sushi', 'title': 'Sushi Bars'}], 'rating': 4.2, 'coordinates': {'latitude': 40.456478, 'longitude': -74.3969074}, 'transactions': ['pickup', 'delivery'], 'price': '$$', 'location': {'address1': '300 State Rte 18', 'address2': '', 'address3': '', 'city': 'East Brunswick', 'zip_code': '08816', 'country': 'US', 'state': 'NJ', 'display_address': ['300 State Rte 18', 'East Brunswick, NJ 08816']}, 'phone': '+17322571088', 'display_phone': '(732) 257-1088', 'distance': 5131.081008929513, 'attributes': {'business_temp_closed': None, 'menu_url': None, 'open24_hours': None, 'waitlist_reservation': None}}, {'id': 'sqcWaaYFIV21L7WYRQ1BTw', 'alias': 'miso-sushi-edison', 'name': 'Miso Sushi', 'image_url': 'https://s3-media2.fl.yelpcdn.com/bphoto/Ks0pujRWXzibhRrKQ_j_gw/o.jpg', 'is_closed': False, 'url': 'https://www.yelp.com/biz/miso-sushi-edison?adjust_creative=Xr01iyL_bx8Dr_7vMcc3Hw&utm_campaign=yelp_api_v3&utm_medium=api_v3_business_search&utm_source=Xr01iyL_bx8Dr_7vMcc3Hw', 'review_count': 46, 'categories': [{'alias': 'japanese', 'title': 'Japanese'}, {'alias': 'salad', 'title': 'Salad'}, {'alias': 'sushi', 'title': 'Sushi Bars'}], 'rating': 4.4, 'coordinates': {'latitude': 40.51548, 'longitude': -74.37996}, 'transactions': ['pickup', 'delivery'], 'location': {'address1': '475 Old Post Rd', 'address2': None, 'address3': '', 'city': 'Edison', 'zip_code': '08817', 'country': 'US', 'state': 'NJ', 'display_address': ['475 Old Post Rd', 'Edison, NJ 08817']}, 'phone': '+17322481775', 'display_phone': '(732) 248-1775', 'distance': 5911.939221319245, 'attributes': {'business_temp_closed': None, 'menu_url': None, 'open24_hours': None, 'waitlist_reservation': None}}, {'id': 'tDMQ3p5LMT6CdUrCnt9xtg', 'alias': 'ottoyee-japanese-cuisine-south-plainfield', 'name': 'Ottoyee Japanese Cuisine', 'image_url': 'https://s3-media4.fl.yelpcdn.com/bphoto/ljFOCvO3uTdhYOax86TFag/o.jpg', 'is_closed': False, 'url': 'https://www.yelp.com/biz/ottoyee-japanese-cuisine-south-plainfield?adjust_creative=Xr01iyL_bx8Dr_7vMcc3Hw&utm_campaign=yelp_api_v3&utm_medium=api_v3_business_search&utm_source=Xr01iyL_bx8Dr_7vMcc3Hw', 'review_count': 21, 'categories': [{'alias': 'japanese', 'title': 'Japanese'}], 'rating': 4.6, 'coordinates': {'latitude': 40.5512123, 'longitude': -74.4316326}, 'transactions': ['pickup', 'delivery'], 'location': {'address1': '4811 Stelton Rd', 'address2': 'ste C', 'address3': '', 'city': 'South Plainfield', 'zip_code': '07080', 'country': 'US', 'state': 'NJ', 'display_address': ['4811 Stelton Rd', 'ste C', 'South Plainfield, NJ 07080']}, 'phone': '', 'display_phone': '', 'distance': 7050.406550513386, 'attributes': {'business_temp_closed': None, 'menu_url': None, 'open24_hours': None, 'waitlist_reservation': None}}, {'id': 'Zm361Bvu-a5ovFmEThNA7A', 'alias': 'kura-revolving-sushi-bar-edison-2', 'name': 'Kura Revolving Sushi Bar', 'image_url': 'https://s3-media4.fl.yelpcdn.com/bphoto/IL-7MRyO4H1S1UOkQmMoMw/o.jpg', 'is_closed': False, 'url': 'https://www.yelp.com/biz/kura-revolving-sushi-bar-edison-2?adjust_creative=Xr01iyL_bx8Dr_7vMcc3Hw&utm_campaign=yelp_api_v3&utm_medium=api_v3_business_search&utm_source=Xr01iyL_bx8Dr_7vMcc3Hw', 'review_count': 170, 'categories': [{'alias': 'sushi', 'title': 'Sushi Bars'}, {'alias': 'conveyorsushi', 'title': 'Conveyor Belt Sushi'}], 'rating': 3.5, 'coordinates': {'latitude': 40.51333818, 'longitude': -74.40525969}, 'transactions': [], 'location': {'address1': '1781 Route 27', 'address2': 'Ste 101', 'address3': None, 'city': 'Edison', 'zip_code': '08817', 'country': 'US', 'state': 'NJ', 'display_address': ['1781 Route 27', 'Ste 101', 'Edison, NJ 08817']}, 'phone': '+17324260550', 'display_phone': '(732) 426-0550', 'distance': 3989.5287811702065, 'attributes': {'business_temp_closed': None, 'menu_url': 'https://kurasushi.com/menu/', 'open24_hours': None, 'waitlist_reservation': None}}, {'id': 'bt0xmrin9i0J_XWSZfv8mg', 'alias': 'sakura-sushi-depot-new-brunswick-7', 'name': 'Sakura Sushi Depot', 'image_url': 'https://s3-media1.fl.yelpcdn.com/bphoto/seupJ0S2oU7mPK8OL4a3GA/o.jpg', 'is_closed': False, 'url': 'https://www.yelp.com/biz/sakura-sushi-depot-new-brunswick-7?adjust_creative=Xr01iyL_bx8Dr_7vMcc3Hw&utm_campaign=yelp_api_v3&utm_medium=api_v3_business_search&utm_source=Xr01iyL_bx8Dr_7vMcc3Hw', 'review_count': 93, 'categories': [{'alias': 'japanese', 'title': 'Japanese'}, {'alias': 'sushi', 'title': 'Sushi Bars'}], 'rating': 3.7, 'coordinates': {'latitude': 40.500472, 'longitude': -74.456003}, 'transactions': ['pickup', 'delivery'], 'price': '$', 'location': {'address1': '204 Easton Ave', 'address2': '', 'address3': '', 'city': 'New Brunswick', 'zip_code': '08901', 'country': 'US', 'state': 'NJ', 'display_address': ['204 Easton Ave', 'New Brunswick, NJ 08901']}, 'phone': '+17326402233', 'display_phone': '(732) 640-2233', 'distance': 1865.4395934839868, 'attributes': {'business_temp_closed': None, 'menu_url': '', 'open24_hours': None, 'waitlist_reservation': None}}, {'id': 'imcoqqCK69_G2aPDuR8aNQ', 'alias': 'aja-asian-cuisine-and-lounge-new-brunswick', 'name': 'AJA Asian Cuisine & Lounge', 'image_url': 'https://s3-media3.fl.yelpcdn.com/bphoto/frWy-8bL5gA678g3Cmtu6w/o.jpg', 'is_closed': False, 'url': 'https://www.yelp.com/biz/aja-asian-cuisine-and-lounge-new-brunswick?adjust_creative=Xr01iyL_bx8Dr_7vMcc3Hw&utm_campaign=yelp_api_v3&utm_medium=api_v3_business_search&utm_source=Xr01iyL_bx8Dr_7vMcc3Hw', 'review_count': 405, 'categories': [{'alias': 'lounges', 'title': 'Lounges'}, {'alias': 'asianfusion', 'title': 'Asian Fusion'}, {'alias': 'sushi', 'title': 'Sushi Bars'}], 'rating': 3.5, 'coordinates': {'latitude': 40.48467200162313, 'longitude': -74.41612649184586}, 'transactions': ['pickup', 'delivery'], 'price': '$$', 'location': {'address1': '28 US Hwy 1', 'address2': '', 'address3': '', 'city': 'New Brunswick', 'zip_code': '08901', 'country': 'US', 'state': 'NJ', 'display_address': ['28 US Hwy 1', 'New Brunswick, NJ 08901']}, 'phone': '+17322495888', 'display_phone': '(732) 249-5888', 'distance': 2136.255539502453, 'attributes': {'business_temp_closed': None, 'menu_url': 'http://www.minimalcollective.com/Images/menu.pdf', 'open24_hours': None, 'waitlist_reservation': None}}, {'id': 'LBx53ebhNX7fH0h97nBB5w', 'alias': 'domoko-sushi-ramen-east-brunswick', 'name': 'Domoko Sushi Ramen', 'image_url': 'https://s3-media2.fl.yelpcdn.com/bphoto/EFMmLfnqod4jZqMUXXhVMQ/o.jpg', 'is_closed': False, 'url': 'https://www.yelp.com/biz/domoko-sushi-ramen-east-brunswick?adjust_creative=Xr01iyL_bx8Dr_7vMcc3Hw&utm_campaign=yelp_api_v3&utm_medium=api_v3_business_search&utm_source=Xr01iyL_bx8Dr_7vMcc3Hw', 'review_count': 102, 'categories': [{'alias': 'ramen', 'title': 'Ramen'}, {'alias': 'sushi', 'title': 'Sushi Bars'}], 'rating': 3.8, 'coordinates': {'latitude': 40.4625611734776, 'longitude': -74.4251516}, 'transactions': ['pickup', 'delivery'], 'price': '$$', 'location': {'address1': '68 Ryders Ln', 'address2': None, 'address3': '', 'city': 'East Brunswick', 'zip_code': '08816', 'country': 'US', 'state': 'NJ', 'display_address': ['68 Ryders Ln', 'East Brunswick, NJ 08816']}, 'phone': '+17328099990', 'display_phone': '(732) 809-9990', 'distance': 3149.145160336573, 'attributes': {'business_temp_closed': None, 'menu_url': 'https://www.domokonj.com/menu', 'open24_hours': None, 'waitlist_reservation': None}}, {'id': 'QiybjRmhZi238cEuY7M4fQ', 'alias': 'umi-premium-sushi-and-seafood-buffet-east-brunswick', 'name': 'Umi Premium Sushi & Seafood Buffet', 'image_url': 'https://s3-media3.fl.yelpcdn.com/bphoto/urwNXULvjwKQc3b4l2pQCw/o.jpg', 'is_closed': False, 'url': 'https://www.yelp.com/biz/umi-premium-sushi-and-seafood-buffet-east-brunswick?adjust_creative=Xr01iyL_bx8Dr_7vMcc3Hw&utm_campaign=yelp_api_v3&utm_medium=api_v3_business_search&utm_source=Xr01iyL_bx8Dr_7vMcc3Hw', 'review_count': 93, 'categories': [{'alias': 'seafood', 'title': 'Seafood'}, {'alias': 'buffets', 'title': 'Buffets'}], 'rating': 3.8, 'coordinates': {'latitude': 40.459877, 'longitude': -74.404914}, 'transactions': [], 'price': '$$$', 'location': {'address1': '275 NJ-18', 'address2': None, 'address3': '', 'city': 'East Brunswick', 'zip_code': '08816', 'country': 'US', 'state': 'NJ', 'display_address': ['275 NJ-18', 'East Brunswick, NJ 08816']}, 'phone': '+17323872787', 'display_phone': '(732) 387-2787', 'distance': 4453.069483338306, 'attributes': {'business_temp_closed': None, 'menu_url': None, 'open24_hours': None, 'waitlist_reservation': None}}, {'id': 'hyjzFzoyRMx16fEyx6zEqw', 'alias': 'noodle-king-new-brunswick-2', 'name': 'Noodle King  ', 'image_url': 'https://s3-media2.fl.yelpcdn.com/bphoto/rkhxss0nyxedMfW8PFI5Zw/o.jpg', 'is_closed': False, 'url': 'https://www.yelp.com/biz/noodle-king-new-brunswick-2?adjust_creative=Xr01iyL_bx8Dr_7vMcc3Hw&utm_campaign=yelp_api_v3&utm_medium=api_v3_business_search&utm_source=Xr01iyL_bx8Dr_7vMcc3Hw', 'review_count': 7, 'categories': [{'alias': 'japanese', 'title': 'Japanese'}], 'rating': 3.6, 'coordinates': {'latitude': 40.49693929948262, 'longitude': -74.4474044}, 'transactions': ['pickup', 'delivery'], 'location': {'address1': '12 Easton Ave', 'address2': '', 'address3': None, 'city': 'New Brunswick', 'zip_code': '08901', 'country': 'US', 'state': 'NJ', 'display_address': ['12 Easton Ave', 'New Brunswick, NJ 08901']}, 'phone': '+17326401717', 'display_phone': '(732) 640-1717', 'distance': 1113.9323595440862, 'attributes': {'business_temp_closed': None, 'menu_url': 'https://noodlekingnj.2-menucities.com/productlist.aspx?cid=37', 'open24_hours': None, 'waitlist_reservation': None}}, {'id': '-GFswy6BpU3Qy7NuOJK6lw', 'alias': 'ramen-nagomi-new-brunswick', 'name': 'Ramen Nagomi', 'image_url': 'https://s3-media3.fl.yelpcdn.com/bphoto/q_-snpHnD_W93a4sPdzHMA/o.jpg', 'is_closed': False, 'url': 'https://www.yelp.com/biz/ramen-nagomi-new-brunswick?adjust_creative=Xr01iyL_bx8Dr_7vMcc3Hw&utm_campaign=yelp_api_v3&utm_medium=api_v3_business_search&utm_source=Xr01iyL_bx8Dr_7vMcc3Hw', 'review_count': 1134, 'categories': [{'alias': 'ramen', 'title': 'Ramen'}], 'rating': 4.4, 'coordinates': {'latitude': 40.494550880229, 'longitude': -74.4446812875442}, 'transactions': ['delivery', 'pickup'], 'price': '$$', 'location': {'address1': '49 Bayard St', 'address2': '', 'address3': '', 'city': 'New Brunswick', 'zip_code': '08901', 'country': 'US', 'state': 'NJ', 'display_address': ['49 Bayard St', 'New Brunswick, NJ 08901']}, 'phone': '+17323172623', 'display_phone': '(732) 317-2623', 'distance': 772.8774322866408, 'attributes': {'business_temp_closed': None, 'menu_url': 'https://www.ramennagomi.com/menu', 'open24_hours': None, 'waitlist_reservation': True}}, {'id': 'anbp3PG9q5MGwdKh7IAipA', 'alias': 'archar-seafood-somerset', 'name': 'Archar Seafood', 'image_url': 'https://s3-media3.fl.yelpcdn.com/bphoto/IcLwFX2y2Y6_B_EHedpIGw/o.jpg', 'is_closed': False, 'url': 'https://www.yelp.com/biz/archar-seafood-somerset?adjust_creative=Xr01iyL_bx8Dr_7vMcc3Hw&utm_campaign=yelp_api_v3&utm_medium=api_v3_business_search&utm_source=Xr01iyL_bx8Dr_7vMcc3Hw', 'review_count': 169, 'categories': [{'alias': 'seafoodmarkets', 'title': 'Seafood Markets'}], 'rating': 4.8, 'coordinates': {'latitude': 40.49132, 'longitude': -74.47432}, 'transactions': [], 'price': '$$', 'location': {'address1': '725 Hamilton St', 'address2': '', 'address3': '', 'city': 'Somerset', 'zip_code': '08873', 'country': 'US', 'state': 'NJ', 'display_address': ['725 Hamilton St', 'Somerset, NJ 08873']}, 'phone': '+17322495835', 'display_phone': '(732) 249-5835', 'distance': 2835.981836775487, 'attributes': {'business_temp_closed': None, 'menu_url': None, 'waitlist_reservation': None}}, {'id': '_5HH3bvp9y4hUVBe_tonTw', 'alias': 'okie-pokii-cafe-highland-park', 'name': 'Okie Pokii Cafe', 'image_url': 'https://s3-media3.fl.yelpcdn.com/bphoto/nR1FhNy3dvx2yzXOIqIHqg/o.jpg', 'is_closed': False, 'url': 'https://www.yelp.com/biz/okie-pokii-cafe-highland-park?adjust_creative=Xr01iyL_bx8Dr_7vMcc3Hw&utm_campaign=yelp_api_v3&utm_medium=api_v3_business_search&utm_source=Xr01iyL_bx8Dr_7vMcc3Hw', 'review_count': 250, 'categories': [{'alias': 'poke', 'title': 'Poke'}, {'alias': 'bubbletea', 'title': 'Bubble Tea'}, {'alias': 'cafes', 'title': 'Cafes'}], 'rating': 4.4, 'coordinates': {'latitude': 40.4983, 'longitude': -74.4341}, 'transactions': ['pickup', 'delivery'], 'price': '$$', 'location': {'address1': '55 Raritan Ave', 'address2': None, 'address3': '', 'city': 'Highland Park', 'zip_code': '08904', 'country': 'US', 'state': 'NJ', 'display_address': ['55 Raritan Ave', 'Highland Park, NJ 08904']}, 'phone': '+17322270022', 'display_phone': '(732) 227-0022', 'distance': 1255.0319946586976, 'attributes': {'business_temp_closed': None, 'menu_url': None, 'open24_hours': None, 'waitlist_reservation': None}}, {'id': 'L8Y_FUzH9vf7I1ooAWLKdw', 'alias': 'midori-sushi-piscataway', 'name': 'Midori Sushi', 'image_url': 'https://s3-media3.fl.yelpcdn.com/bphoto/2wQRAVPD9r_KF-Pqlhxwvw/o.jpg', 'is_closed': False, 'url': 'https://www.yelp.com/biz/midori-sushi-piscataway?adjust_creative=Xr01iyL_bx8Dr_7vMcc3Hw&utm_campaign=yelp_api_v3&utm_medium=api_v3_business_search&utm_source=Xr01iyL_bx8Dr_7vMcc3Hw', 'review_count': 331, 'categories': [{'alias': 'sushi', 'title': 'Sushi Bars'}, {'alias': 'japanese', 'title': 'Japanese'}], 'rating': 3.9, 'coordinates': {'latitude': 40.551317, 'longitude': -74.434726}, 'transactions': ['pickup', 'delivery'], 'price': '$$', 'location': {'address1': '1392 Centennial Ave', 'address2': '', 'address3': '', 'city': 'Piscataway', 'zip_code': '08854', 'country': 'US', 'state': 'NJ', 'display_address': ['1392 Centennial Ave', 'Piscataway, NJ 08854']}, 'phone': '+17329819300', 'display_phone': '(732) 981-9300', 'distance': 7037.593924101083, 'attributes': {'business_temp_closed': None, 'menu_url': '', 'open24_hours': None, 'waitlist_reservation': None}}, {'id': 'PGJe67mszrPFgbhzOmdeWw', 'alias': 'poke-nagomi-new-brunswick-2', 'name': 'Poke Nagomi', 'image_url': 'https://s3-media2.fl.yelpcdn.com/bphoto/W1PGfuQM0PC69oSUQvbIsw/o.jpg', 'is_closed': False, 'url': 'https://www.yelp.com/biz/poke-nagomi-new-brunswick-2?adjust_creative=Xr01iyL_bx8Dr_7vMcc3Hw&utm_campaign=yelp_api_v3&utm_medium=api_v3_business_search&utm_source=Xr01iyL_bx8Dr_7vMcc3Hw', 'review_count': 100, 'categories': [{'alias': 'poke', 'title': 'Poke'}, {'alias': 'japanese', 'title': 'Japanese'}, {'alias': 'hawaiian', 'title': 'Hawaiian'}], 'rating': 4.5, 'coordinates': {'latitude': 40.4940511278727, 'longitude': -74.4437802256779}, 'transactions': ['pickup', 'delivery'], 'price': '$$', 'location': {'address1': '342 George St', 'address2': '', 'address3': None, 'city': 'New Brunswick', 'zip_code': '08901', 'country': 'US', 'state': 'NJ', 'display_address': ['342 George St', 'New Brunswick, NJ 08901']}, 'phone': '+17322200037', 'display_phone': '(732) 220-0037', 'distance': 692.6677908010087, 'attributes': {'business_temp_closed': None, 'menu_url': 'http://pokenagomi.us/s/orders', 'open24_hours': None, 'waitlist_reservation': None}}, {'id': 'FTJIOa9c2FvSwgrIpvMleA', 'alias': 'sushi-room-new-brunswick-3', 'name': 'Sushi Room', 'image_url': 'https://s3-media3.fl.yelpcdn.com/bphoto/iTi0d9bsMkuxDCCAtvzDNA/o.jpg', 'is_closed': False, 'url': 'https://www.yelp.com/biz/sushi-room-new-brunswick-3?adjust_creative=Xr01iyL_bx8Dr_7vMcc3Hw&utm_campaign=yelp_api_v3&utm_medium=api_v3_business_search&utm_source=Xr01iyL_bx8Dr_7vMcc3Hw', 'review_count': 276, 'categories': [{'alias': 'sushi', 'title': 'Sushi Bars'}, {'alias': 'asianfusion', 'title': 'Asian Fusion'}, {'alias': 'tradamerican', 'title': 'American'}], 'rating': 2.9, 'coordinates': {'latitude': 40.4968880519384, 'longitude': -74.4473812317813}, 'transactions': ['pickup', 'delivery'], 'price': '$$', 'location': {'address1': '12 Easton Ave', 'address2': '', 'address3': '', 'city': 'New Brunswick', 'zip_code': '08901', 'country': 'US', 'state': 'NJ', 'display_address': ['12 Easton Ave', 'New Brunswick, NJ 08901']}, 'phone': '+17326400407', 'display_phone': '(732) 640-0407', 'distance': 1108.00491663754, 'attributes': {'business_temp_closed': None, 'menu_url': '', 'open24_hours': None, 'waitlist_reservation': None}}, {'id': 'dj-4Vpa2HTA8i3iE9WrsaQ', 'alias': 'cafe-island-edison', 'name': 'Cafe Island', 'image_url': 'https://s3-media4.fl.yelpcdn.com/bphoto/yI1v3iBLq-75J7M_4u401Q/o.jpg', 'is_closed': False, 'url': 'https://www.yelp.com/biz/cafe-island-edison?adjust_creative=Xr01iyL_bx8Dr_7vMcc3Hw&utm_campaign=yelp_api_v3&utm_medium=api_v3_business_search&utm_source=Xr01iyL_bx8Dr_7vMcc3Hw', 'review_count': 12, 'categories': [{'alias': 'korean', 'title': 'Korean'}, {'alias': 'sushi', 'title': 'Sushi Bars'}, {'alias': 'juicebars', 'title': 'Juice Bars & Smoothies'}], 'rating': 4.2, 'coordinates': {'latitude': 40.514189, 'longitude': -74.406947}, 'transactions': ['delivery'], 'location': {'address1': '1769 Lincoln Hwy', 'address2': None, 'address3': '', 'city': 'Edison', 'zip_code': '08817', 'country': 'US', 'state': 'NJ', 'display_address': ['1769 Lincoln Hwy', 'Edison, NJ 08817']}, 'phone': '+17322537379', 'display_phone': '(732) 253-7379', 'distance': 4056.7178453689608, 'attributes': {'business_temp_closed': None, 'menu_url': 'https://www.islandspasauna.com/full-menu', 'open24_hours': None, 'waitlist_reservation': None}}], 'total': 109, 'region': {'center': {'longitude': -74.44095611572266, 'latitude': 40.48820377330899}}}\n"
     ]
    }
   ],
   "source": [
    "response = search(API_KEY,DEFAULT_TERM, 'New Brunswick, NJ')\n",
    "print(response)"
   ]
  },
  {
   "cell_type": "markdown",
   "id": "6e83b391ec41ce6d",
   "metadata": {},
   "source": [
    "### Prints business names, rating, review count, and three reviews (with the sentiment of these reviews) for all processed businesses from the search."
   ]
  },
  {
   "cell_type": "code",
   "execution_count": 19,
   "id": "81403449265279a7",
   "metadata": {},
   "outputs": [
    {
     "name": "stdout",
     "output_type": "stream",
     "text": [
      "Business Name: Sakana Sushi & Japanese Cuisine\n",
      "Rating: 4.0\n",
      "Review Count: 120\n",
      "Reviews: \n",
      "Querying https://api.yelp.com/v3/businesses/LdWYqYi-EdMayOMMjbNWjA/reviews ...\n"
     ]
    },
    {
     "ename": "KeyError",
     "evalue": "'reviews'",
     "output_type": "error",
     "traceback": [
      "\u001b[1;31m---------------------------------------------------------------------------\u001b[0m",
      "\u001b[1;31mKeyError\u001b[0m                                  Traceback (most recent call last)",
      "Cell \u001b[1;32mIn[19], line 9\u001b[0m\n\u001b[0;32m      7\u001b[0m \u001b[38;5;66;03m#print('https://api.yelp.com/v3/businesses/{}/reviews?limit=20&sort_by=yelp_sort'.format(business['id']))\u001b[39;00m\n\u001b[0;32m      8\u001b[0m reviews \u001b[38;5;241m=\u001b[39m request(API_HOST,BUS_REVIEW, API_KEY)\n\u001b[1;32m----> 9\u001b[0m \u001b[38;5;28;01mfor\u001b[39;00m review \u001b[38;5;129;01min\u001b[39;00m reviews[\u001b[38;5;124m'\u001b[39m\u001b[38;5;124mreviews\u001b[39m\u001b[38;5;124m'\u001b[39m]:\n\u001b[0;32m     10\u001b[0m     \u001b[38;5;28mprint\u001b[39m(\u001b[38;5;124m'\u001b[39m\u001b[38;5;124m - \u001b[39m\u001b[38;5;124m'\u001b[39m \u001b[38;5;241m+\u001b[39m review[\u001b[38;5;124m'\u001b[39m\u001b[38;5;124mtext\u001b[39m\u001b[38;5;124m'\u001b[39m])\n\u001b[0;32m     11\u001b[0m     \u001b[38;5;66;03m# Perform sentiment analysis on the review using TextBlob\u001b[39;00m\n",
      "\u001b[1;31mKeyError\u001b[0m: 'reviews'"
     ]
    }
   ],
   "source": [
    "for business in response['businesses']:\n",
    "    print('Business Name: ' + business['name'])\n",
    "    print('Rating: ' + str(business['rating']))\n",
    "    print('Review Count: ' + str(business['review_count']))\n",
    "    print('Reviews: ')\n",
    "    BUS_REVIEW='/v3/businesses/{}/reviews'.format(business['id'])\n",
    "    #print('https://api.yelp.com/v3/businesses/{}/reviews?limit=20&sort_by=yelp_sort'.format(business['id']))\n",
    "    reviews = request(API_HOST,BUS_REVIEW, API_KEY)\n",
    "    for review in reviews['reviews']:\n",
    "        print(' - ' + review['text'])\n",
    "        # Perform sentiment analysis on the review using TextBlob\n",
    "        blob = TextBlob(review['text'])\n",
    "        sentiment = blob.sentiment.polarity\n",
    "        if sentiment > 0:\n",
    "            print('    Sentiment: Positive')\n",
    "        elif sentiment < 0:\n",
    "            print('    Sentiment: Negative')\n",
    "        else:\n",
    "            print('    Sentiment: Neutral')\n",
    "        print('\\n================\\n\\n\\n')"
   ]
  },
  {
   "cell_type": "markdown",
   "id": "be6bf234ce8dc9c4",
   "metadata": {},
   "source": [
    "### Downloads the stop words"
   ]
  },
  {
   "cell_type": "code",
   "execution_count": 6,
   "id": "b315266987447550",
   "metadata": {},
   "outputs": [
    {
     "name": "stderr",
     "output_type": "stream",
     "text": [
      "[nltk_data] Downloading package stopwords to C:\\Users\\Jayden\n",
      "[nltk_data]     Mathew\\AppData\\Roaming\\nltk_data...\n",
      "[nltk_data]   Package stopwords is already up-to-date!\n"
     ]
    },
    {
     "data": {
      "text/plain": [
       "True"
      ]
     },
     "execution_count": 6,
     "metadata": {},
     "output_type": "execute_result"
    }
   ],
   "source": [
    "# Download NLTK resources\n",
    "nltk.download('stopwords')"
   ]
  },
  {
   "cell_type": "markdown",
   "id": "8a1ca5853d94b920",
   "metadata": {},
   "source": [
    "### Saves and prints only the english stop words found in the nltk download."
   ]
  },
  {
   "cell_type": "code",
   "execution_count": 7,
   "id": "3aa8b6ffe3a41a21",
   "metadata": {},
   "outputs": [
    {
     "data": {
      "text/plain": [
       "{'a',\n",
       " 'about',\n",
       " 'above',\n",
       " 'after',\n",
       " 'again',\n",
       " 'against',\n",
       " 'ain',\n",
       " 'all',\n",
       " 'am',\n",
       " 'an',\n",
       " 'and',\n",
       " 'any',\n",
       " 'are',\n",
       " 'aren',\n",
       " \"aren't\",\n",
       " 'as',\n",
       " 'at',\n",
       " 'be',\n",
       " 'because',\n",
       " 'been',\n",
       " 'before',\n",
       " 'being',\n",
       " 'below',\n",
       " 'between',\n",
       " 'both',\n",
       " 'but',\n",
       " 'by',\n",
       " 'can',\n",
       " 'couldn',\n",
       " \"couldn't\",\n",
       " 'd',\n",
       " 'did',\n",
       " 'didn',\n",
       " \"didn't\",\n",
       " 'do',\n",
       " 'does',\n",
       " 'doesn',\n",
       " \"doesn't\",\n",
       " 'doing',\n",
       " 'don',\n",
       " \"don't\",\n",
       " 'down',\n",
       " 'during',\n",
       " 'each',\n",
       " 'few',\n",
       " 'for',\n",
       " 'from',\n",
       " 'further',\n",
       " 'had',\n",
       " 'hadn',\n",
       " \"hadn't\",\n",
       " 'has',\n",
       " 'hasn',\n",
       " \"hasn't\",\n",
       " 'have',\n",
       " 'haven',\n",
       " \"haven't\",\n",
       " 'having',\n",
       " 'he',\n",
       " 'her',\n",
       " 'here',\n",
       " 'hers',\n",
       " 'herself',\n",
       " 'him',\n",
       " 'himself',\n",
       " 'his',\n",
       " 'how',\n",
       " 'i',\n",
       " 'if',\n",
       " 'in',\n",
       " 'into',\n",
       " 'is',\n",
       " 'isn',\n",
       " \"isn't\",\n",
       " 'it',\n",
       " \"it's\",\n",
       " 'its',\n",
       " 'itself',\n",
       " 'just',\n",
       " 'll',\n",
       " 'm',\n",
       " 'ma',\n",
       " 'me',\n",
       " 'mightn',\n",
       " \"mightn't\",\n",
       " 'more',\n",
       " 'most',\n",
       " 'mustn',\n",
       " \"mustn't\",\n",
       " 'my',\n",
       " 'myself',\n",
       " 'needn',\n",
       " \"needn't\",\n",
       " 'no',\n",
       " 'nor',\n",
       " 'not',\n",
       " 'now',\n",
       " 'o',\n",
       " 'of',\n",
       " 'off',\n",
       " 'on',\n",
       " 'once',\n",
       " 'only',\n",
       " 'or',\n",
       " 'other',\n",
       " 'our',\n",
       " 'ours',\n",
       " 'ourselves',\n",
       " 'out',\n",
       " 'over',\n",
       " 'own',\n",
       " 're',\n",
       " 's',\n",
       " 'same',\n",
       " 'shan',\n",
       " \"shan't\",\n",
       " 'she',\n",
       " \"she's\",\n",
       " 'should',\n",
       " \"should've\",\n",
       " 'shouldn',\n",
       " \"shouldn't\",\n",
       " 'so',\n",
       " 'some',\n",
       " 'such',\n",
       " 't',\n",
       " 'than',\n",
       " 'that',\n",
       " \"that'll\",\n",
       " 'the',\n",
       " 'their',\n",
       " 'theirs',\n",
       " 'them',\n",
       " 'themselves',\n",
       " 'then',\n",
       " 'there',\n",
       " 'these',\n",
       " 'they',\n",
       " 'this',\n",
       " 'those',\n",
       " 'through',\n",
       " 'to',\n",
       " 'too',\n",
       " 'under',\n",
       " 'until',\n",
       " 'up',\n",
       " 've',\n",
       " 'very',\n",
       " 'was',\n",
       " 'wasn',\n",
       " \"wasn't\",\n",
       " 'we',\n",
       " 'were',\n",
       " 'weren',\n",
       " \"weren't\",\n",
       " 'what',\n",
       " 'when',\n",
       " 'where',\n",
       " 'which',\n",
       " 'while',\n",
       " 'who',\n",
       " 'whom',\n",
       " 'why',\n",
       " 'will',\n",
       " 'with',\n",
       " 'won',\n",
       " \"won't\",\n",
       " 'wouldn',\n",
       " \"wouldn't\",\n",
       " 'y',\n",
       " 'you',\n",
       " \"you'd\",\n",
       " \"you'll\",\n",
       " \"you're\",\n",
       " \"you've\",\n",
       " 'your',\n",
       " 'yours',\n",
       " 'yourself',\n",
       " 'yourselves'}"
      ]
     },
     "execution_count": 7,
     "metadata": {},
     "output_type": "execute_result"
    }
   ],
   "source": [
    "#sets english stopwords\n",
    "from nltk.corpus import stopwords\n",
    "\n",
    "stops = set(stopwords.words('english'))\n",
    "stops"
   ]
  },
  {
   "cell_type": "markdown",
   "id": "5e23b0411724afe5",
   "metadata": {},
   "source": [
    "### Processes all the reviews and performs sentiment analysis using Textblob and NaiveBayesAnalyzer."
   ]
  },
  {
   "cell_type": "code",
   "execution_count": 8,
   "id": "da77f6d0d35f1942",
   "metadata": {},
   "outputs": [
    {
     "name": "stdout",
     "output_type": "stream",
     "text": [
      "Querying https://api.yelp.com/v3/businesses/IOyhF0TRcIFm5dwdIsUjVA/reviews ...\n"
     ]
    },
    {
     "ename": "KeyError",
     "evalue": "'reviews'",
     "output_type": "error",
     "traceback": [
      "\u001b[1;31m---------------------------------------------------------------------------\u001b[0m",
      "\u001b[1;31mKeyError\u001b[0m                                  Traceback (most recent call last)",
      "Cell \u001b[1;32mIn[8], line 9\u001b[0m\n\u001b[0;32m      7\u001b[0m \u001b[38;5;28;01mfor\u001b[39;00m business \u001b[38;5;129;01min\u001b[39;00m response[\u001b[38;5;124m'\u001b[39m\u001b[38;5;124mbusinesses\u001b[39m\u001b[38;5;124m'\u001b[39m]:\n\u001b[0;32m      8\u001b[0m     reviews \u001b[38;5;241m=\u001b[39m request(API_HOST, \u001b[38;5;124m'\u001b[39m\u001b[38;5;124m/v3/businesses/\u001b[39m\u001b[38;5;132;01m{}\u001b[39;00m\u001b[38;5;124m/reviews\u001b[39m\u001b[38;5;124m'\u001b[39m\u001b[38;5;241m.\u001b[39mformat(business[\u001b[38;5;124m'\u001b[39m\u001b[38;5;124mid\u001b[39m\u001b[38;5;124m'\u001b[39m]), API_KEY)\n\u001b[1;32m----> 9\u001b[0m     \u001b[38;5;28;01mfor\u001b[39;00m review \u001b[38;5;129;01min\u001b[39;00m reviews[\u001b[38;5;124m'\u001b[39m\u001b[38;5;124mreviews\u001b[39m\u001b[38;5;124m'\u001b[39m]:\n\u001b[0;32m     10\u001b[0m         \u001b[38;5;66;03m# Perform stopword removal\u001b[39;00m\n\u001b[0;32m     11\u001b[0m         processed_review \u001b[38;5;241m=\u001b[39m [word \u001b[38;5;28;01mfor\u001b[39;00m word \u001b[38;5;129;01min\u001b[39;00m TextBlob(review[\u001b[38;5;124m'\u001b[39m\u001b[38;5;124mtext\u001b[39m\u001b[38;5;124m'\u001b[39m])\u001b[38;5;241m.\u001b[39mwords \u001b[38;5;28;01mif\u001b[39;00m word\u001b[38;5;241m.\u001b[39mlower() \u001b[38;5;129;01mnot\u001b[39;00m \u001b[38;5;129;01min\u001b[39;00m stops]\n\u001b[0;32m     12\u001b[0m         wordsc\u001b[38;5;241m.\u001b[39mappend(\u001b[38;5;124m'\u001b[39m\u001b[38;5;124m \u001b[39m\u001b[38;5;124m'\u001b[39m\u001b[38;5;241m.\u001b[39mjoin(processed_review))\n",
      "\u001b[1;31mKeyError\u001b[0m: 'reviews'"
     ]
    }
   ],
   "source": [
    "# Perform sentiment analysis with TextBlob and NaiveBayesAnalyzer\n",
    "positive_textblob, negative_textblob, neutral_textblob = 0, 0, 0\n",
    "positive_naive_bayes, negative_naive_bayes, neutral_naive_bayes = 0, 0, 0\n",
    "\n",
    "wordsc = []\n",
    "# Loop through each business in the response\n",
    "for business in response['businesses']:\n",
    "    reviews = request(API_HOST, '/v3/businesses/{}/reviews'.format(business['id']), API_KEY)\n",
    "    for review in reviews['reviews']:\n",
    "        # Perform stopword removal\n",
    "        processed_review = [word for word in TextBlob(review['text']).words if word.lower() not in stops]\n",
    "        wordsc.append(' '.join(processed_review))\n",
    "        # Sentiment analysis with TextBlob\n",
    "        sentiment_tb = TextBlob(' '.join(processed_review)).sentiment.polarity\n",
    "        if sentiment_tb > 0:\n",
    "            positive_textblob += 1\n",
    "        elif sentiment_tb < 0:\n",
    "            negative_textblob += 1\n",
    "        else:\n",
    "            neutral_textblob += 1\n",
    "        \n",
    "        # Sentiment analysis with NaiveBayesAnalyzer\n",
    "        sentiment_nb = TextBlob(' '.join(processed_review), analyzer=NaiveBayesAnalyzer()).sentiment.classification\n",
    "        if sentiment_nb == 'pos':\n",
    "            positive_naive_bayes += 1\n",
    "        elif sentiment_nb == 'neg':\n",
    "            negative_naive_bayes += 1\n",
    "        else:\n",
    "            neutral_naive_bayes += 1\n",
    "            \n",
    "print (positive_textblob)"
   ]
  },
  {
   "cell_type": "markdown",
   "id": "20afab04",
   "metadata": {},
   "source": [
    "### Prints the positive, neutral, and negative sentiment analyses from the Textblob and NaiveBayesAnalyzer results."
   ]
  },
  {
   "cell_type": "code",
   "execution_count": 9,
   "id": "19cd40066c658fee",
   "metadata": {},
   "outputs": [
    {
     "name": "stdout",
     "output_type": "stream",
     "text": [
      "0\n",
      "0\n",
      "0\n",
      "0\n",
      "0\n",
      "0\n"
     ]
    }
   ],
   "source": [
    "print (positive_textblob)\n",
    "print (negative_textblob)\n",
    "print (neutral_textblob)\n",
    "print (positive_naive_bayes)\n",
    "print (negative_naive_bayes)\n",
    "print (neutral_naive_bayes)"
   ]
  },
  {
   "cell_type": "markdown",
   "id": "fa17b167a9fb6b0a",
   "metadata": {},
   "source": [
    "### Displays Textblob Donut Chart (representing positive, neutral, and negative sentiment analyses)."
   ]
  },
  {
   "cell_type": "code",
   "execution_count": 10,
   "id": "6fb5043ce5feb53",
   "metadata": {},
   "outputs": [
    {
     "name": "stderr",
     "output_type": "stream",
     "text": [
      "C:\\Users\\Jayden Mathew\\anaconda3\\Lib\\site-packages\\matplotlib\\axes\\_axes.py:3193: RuntimeWarning: invalid value encountered in divide\n",
      "  x = x / sx\n"
     ]
    },
    {
     "ename": "ValueError",
     "evalue": "cannot convert float NaN to integer",
     "output_type": "error",
     "traceback": [
      "\u001b[1;31m---------------------------------------------------------------------------\u001b[0m",
      "\u001b[1;31mValueError\u001b[0m                                Traceback (most recent call last)",
      "Cell \u001b[1;32mIn[10], line 6\u001b[0m\n\u001b[0;32m      3\u001b[0m sizes \u001b[38;5;241m=\u001b[39m \u001b[38;5;28mlist\u001b[39m([positive_textblob, negative_textblob, neutral_textblob])\n\u001b[0;32m      5\u001b[0m fig, ax \u001b[38;5;241m=\u001b[39m plt\u001b[38;5;241m.\u001b[39msubplots()\n\u001b[1;32m----> 6\u001b[0m wedges, texts, autotexts \u001b[38;5;241m=\u001b[39m ax\u001b[38;5;241m.\u001b[39mpie(sizes, labels\u001b[38;5;241m=\u001b[39mlabels, autopct\u001b[38;5;241m=\u001b[39m\u001b[38;5;124m'\u001b[39m\u001b[38;5;132;01m%1.1f\u001b[39;00m\u001b[38;5;132;01m%%\u001b[39;00m\u001b[38;5;124m'\u001b[39m, startangle\u001b[38;5;241m=\u001b[39m\u001b[38;5;241m90\u001b[39m, colors\u001b[38;5;241m=\u001b[39m[\u001b[38;5;124m'\u001b[39m\u001b[38;5;124mlightgreen\u001b[39m\u001b[38;5;124m'\u001b[39m, \u001b[38;5;124m'\u001b[39m\u001b[38;5;124mlightcoral\u001b[39m\u001b[38;5;124m'\u001b[39m, \u001b[38;5;124m'\u001b[39m\u001b[38;5;124mlightskyblue\u001b[39m\u001b[38;5;124m'\u001b[39m], wedgeprops\u001b[38;5;241m=\u001b[39m{\u001b[38;5;124m'\u001b[39m\u001b[38;5;124mwidth\u001b[39m\u001b[38;5;124m'\u001b[39m: \u001b[38;5;241m0.4\u001b[39m})\n\u001b[0;32m      7\u001b[0m ax\u001b[38;5;241m.\u001b[39maxis(\u001b[38;5;124m'\u001b[39m\u001b[38;5;124mequal\u001b[39m\u001b[38;5;124m'\u001b[39m)  \u001b[38;5;66;03m# Equal aspect ratio ensures that pie is drawn as a circle.\u001b[39;00m\n\u001b[0;32m      9\u001b[0m \u001b[38;5;66;03m# Add a circle at the center to transform the pie chart into a donut chart\u001b[39;00m\n",
      "File \u001b[1;32m~\\anaconda3\\Lib\\site-packages\\matplotlib\\__init__.py:1446\u001b[0m, in \u001b[0;36m_preprocess_data.<locals>.inner\u001b[1;34m(ax, data, *args, **kwargs)\u001b[0m\n\u001b[0;32m   1443\u001b[0m \u001b[38;5;129m@functools\u001b[39m\u001b[38;5;241m.\u001b[39mwraps(func)\n\u001b[0;32m   1444\u001b[0m \u001b[38;5;28;01mdef\u001b[39;00m \u001b[38;5;21minner\u001b[39m(ax, \u001b[38;5;241m*\u001b[39margs, data\u001b[38;5;241m=\u001b[39m\u001b[38;5;28;01mNone\u001b[39;00m, \u001b[38;5;241m*\u001b[39m\u001b[38;5;241m*\u001b[39mkwargs):\n\u001b[0;32m   1445\u001b[0m     \u001b[38;5;28;01mif\u001b[39;00m data \u001b[38;5;129;01mis\u001b[39;00m \u001b[38;5;28;01mNone\u001b[39;00m:\n\u001b[1;32m-> 1446\u001b[0m         \u001b[38;5;28;01mreturn\u001b[39;00m func(ax, \u001b[38;5;241m*\u001b[39m\u001b[38;5;28mmap\u001b[39m(sanitize_sequence, args), \u001b[38;5;241m*\u001b[39m\u001b[38;5;241m*\u001b[39mkwargs)\n\u001b[0;32m   1448\u001b[0m     bound \u001b[38;5;241m=\u001b[39m new_sig\u001b[38;5;241m.\u001b[39mbind(ax, \u001b[38;5;241m*\u001b[39margs, \u001b[38;5;241m*\u001b[39m\u001b[38;5;241m*\u001b[39mkwargs)\n\u001b[0;32m   1449\u001b[0m     auto_label \u001b[38;5;241m=\u001b[39m (bound\u001b[38;5;241m.\u001b[39marguments\u001b[38;5;241m.\u001b[39mget(label_namer)\n\u001b[0;32m   1450\u001b[0m                   \u001b[38;5;129;01mor\u001b[39;00m bound\u001b[38;5;241m.\u001b[39mkwargs\u001b[38;5;241m.\u001b[39mget(label_namer))\n",
      "File \u001b[1;32m~\\anaconda3\\Lib\\site-packages\\matplotlib\\axes\\_axes.py:3237\u001b[0m, in \u001b[0;36mAxes.pie\u001b[1;34m(self, x, explode, labels, colors, autopct, pctdistance, shadow, labeldistance, startangle, radius, counterclock, wedgeprops, textprops, center, frame, rotatelabels, normalize, hatch)\u001b[0m\n\u001b[0;32m   3234\u001b[0m x \u001b[38;5;241m+\u001b[39m\u001b[38;5;241m=\u001b[39m expl \u001b[38;5;241m*\u001b[39m math\u001b[38;5;241m.\u001b[39mcos(thetam)\n\u001b[0;32m   3235\u001b[0m y \u001b[38;5;241m+\u001b[39m\u001b[38;5;241m=\u001b[39m expl \u001b[38;5;241m*\u001b[39m math\u001b[38;5;241m.\u001b[39msin(thetam)\n\u001b[1;32m-> 3237\u001b[0m w \u001b[38;5;241m=\u001b[39m mpatches\u001b[38;5;241m.\u001b[39mWedge((x, y), radius, \u001b[38;5;241m360.\u001b[39m \u001b[38;5;241m*\u001b[39m \u001b[38;5;28mmin\u001b[39m(theta1, theta2),\n\u001b[0;32m   3238\u001b[0m                    \u001b[38;5;241m360.\u001b[39m \u001b[38;5;241m*\u001b[39m \u001b[38;5;28mmax\u001b[39m(theta1, theta2),\n\u001b[0;32m   3239\u001b[0m                    facecolor\u001b[38;5;241m=\u001b[39mget_next_color(),\n\u001b[0;32m   3240\u001b[0m                    hatch\u001b[38;5;241m=\u001b[39m\u001b[38;5;28mnext\u001b[39m(hatch_cycle),\n\u001b[0;32m   3241\u001b[0m                    clip_on\u001b[38;5;241m=\u001b[39m\u001b[38;5;28;01mFalse\u001b[39;00m,\n\u001b[0;32m   3242\u001b[0m                    label\u001b[38;5;241m=\u001b[39mlabel)\n\u001b[0;32m   3243\u001b[0m w\u001b[38;5;241m.\u001b[39mset(\u001b[38;5;241m*\u001b[39m\u001b[38;5;241m*\u001b[39mwedgeprops)\n\u001b[0;32m   3244\u001b[0m slices\u001b[38;5;241m.\u001b[39mappend(w)\n",
      "File \u001b[1;32m~\\anaconda3\\Lib\\site-packages\\matplotlib\\_api\\deprecation.py:454\u001b[0m, in \u001b[0;36mmake_keyword_only.<locals>.wrapper\u001b[1;34m(*args, **kwargs)\u001b[0m\n\u001b[0;32m    448\u001b[0m \u001b[38;5;28;01mif\u001b[39;00m \u001b[38;5;28mlen\u001b[39m(args) \u001b[38;5;241m>\u001b[39m name_idx:\n\u001b[0;32m    449\u001b[0m     warn_deprecated(\n\u001b[0;32m    450\u001b[0m         since, message\u001b[38;5;241m=\u001b[39m\u001b[38;5;124m\"\u001b[39m\u001b[38;5;124mPassing the \u001b[39m\u001b[38;5;132;01m%(name)s\u001b[39;00m\u001b[38;5;124m \u001b[39m\u001b[38;5;132;01m%(obj_type)s\u001b[39;00m\u001b[38;5;124m \u001b[39m\u001b[38;5;124m\"\u001b[39m\n\u001b[0;32m    451\u001b[0m         \u001b[38;5;124m\"\u001b[39m\u001b[38;5;124mpositionally is deprecated since Matplotlib \u001b[39m\u001b[38;5;132;01m%(since)s\u001b[39;00m\u001b[38;5;124m; the \u001b[39m\u001b[38;5;124m\"\u001b[39m\n\u001b[0;32m    452\u001b[0m         \u001b[38;5;124m\"\u001b[39m\u001b[38;5;124mparameter will become keyword-only \u001b[39m\u001b[38;5;132;01m%(removal)s\u001b[39;00m\u001b[38;5;124m.\u001b[39m\u001b[38;5;124m\"\u001b[39m,\n\u001b[0;32m    453\u001b[0m         name\u001b[38;5;241m=\u001b[39mname, obj_type\u001b[38;5;241m=\u001b[39m\u001b[38;5;124mf\u001b[39m\u001b[38;5;124m\"\u001b[39m\u001b[38;5;124mparameter of \u001b[39m\u001b[38;5;132;01m{\u001b[39;00mfunc\u001b[38;5;241m.\u001b[39m\u001b[38;5;18m__name__\u001b[39m\u001b[38;5;132;01m}\u001b[39;00m\u001b[38;5;124m()\u001b[39m\u001b[38;5;124m\"\u001b[39m)\n\u001b[1;32m--> 454\u001b[0m \u001b[38;5;28;01mreturn\u001b[39;00m func(\u001b[38;5;241m*\u001b[39margs, \u001b[38;5;241m*\u001b[39m\u001b[38;5;241m*\u001b[39mkwargs)\n",
      "File \u001b[1;32m~\\anaconda3\\Lib\\site-packages\\matplotlib\\patches.py:1195\u001b[0m, in \u001b[0;36mWedge.__init__\u001b[1;34m(self, center, r, theta1, theta2, width, **kwargs)\u001b[0m\n\u001b[0;32m   1193\u001b[0m \u001b[38;5;28mself\u001b[39m\u001b[38;5;241m.\u001b[39mtheta1, \u001b[38;5;28mself\u001b[39m\u001b[38;5;241m.\u001b[39mtheta2 \u001b[38;5;241m=\u001b[39m theta1, theta2\n\u001b[0;32m   1194\u001b[0m \u001b[38;5;28mself\u001b[39m\u001b[38;5;241m.\u001b[39m_patch_transform \u001b[38;5;241m=\u001b[39m transforms\u001b[38;5;241m.\u001b[39mIdentityTransform()\n\u001b[1;32m-> 1195\u001b[0m \u001b[38;5;28mself\u001b[39m\u001b[38;5;241m.\u001b[39m_recompute_path()\n",
      "File \u001b[1;32m~\\anaconda3\\Lib\\site-packages\\matplotlib\\patches.py:1207\u001b[0m, in \u001b[0;36mWedge._recompute_path\u001b[1;34m(self)\u001b[0m\n\u001b[0;32m   1204\u001b[0m     connector \u001b[38;5;241m=\u001b[39m Path\u001b[38;5;241m.\u001b[39mLINETO\n\u001b[0;32m   1206\u001b[0m \u001b[38;5;66;03m# Form the outer ring\u001b[39;00m\n\u001b[1;32m-> 1207\u001b[0m arc \u001b[38;5;241m=\u001b[39m Path\u001b[38;5;241m.\u001b[39marc(theta1, theta2)\n\u001b[0;32m   1209\u001b[0m \u001b[38;5;28;01mif\u001b[39;00m \u001b[38;5;28mself\u001b[39m\u001b[38;5;241m.\u001b[39mwidth \u001b[38;5;129;01mis\u001b[39;00m \u001b[38;5;129;01mnot\u001b[39;00m \u001b[38;5;28;01mNone\u001b[39;00m:\n\u001b[0;32m   1210\u001b[0m     \u001b[38;5;66;03m# Partial annulus needs to draw the outer ring\u001b[39;00m\n\u001b[0;32m   1211\u001b[0m     \u001b[38;5;66;03m# followed by a reversed and scaled inner ring\u001b[39;00m\n\u001b[0;32m   1212\u001b[0m     v1 \u001b[38;5;241m=\u001b[39m arc\u001b[38;5;241m.\u001b[39mvertices\n",
      "File \u001b[1;32m~\\anaconda3\\Lib\\site-packages\\matplotlib\\path.py:954\u001b[0m, in \u001b[0;36mPath.arc\u001b[1;34m(cls, theta1, theta2, n, is_wedge)\u001b[0m\n\u001b[0;32m    952\u001b[0m \u001b[38;5;66;03m# number of curve segments to make\u001b[39;00m\n\u001b[0;32m    953\u001b[0m \u001b[38;5;28;01mif\u001b[39;00m n \u001b[38;5;129;01mis\u001b[39;00m \u001b[38;5;28;01mNone\u001b[39;00m:\n\u001b[1;32m--> 954\u001b[0m     n \u001b[38;5;241m=\u001b[39m \u001b[38;5;28mint\u001b[39m(\u001b[38;5;241m2\u001b[39m \u001b[38;5;241m*\u001b[39m\u001b[38;5;241m*\u001b[39m np\u001b[38;5;241m.\u001b[39mceil((eta2 \u001b[38;5;241m-\u001b[39m eta1) \u001b[38;5;241m/\u001b[39m halfpi))\n\u001b[0;32m    955\u001b[0m \u001b[38;5;28;01mif\u001b[39;00m n \u001b[38;5;241m<\u001b[39m \u001b[38;5;241m1\u001b[39m:\n\u001b[0;32m    956\u001b[0m     \u001b[38;5;28;01mraise\u001b[39;00m \u001b[38;5;167;01mValueError\u001b[39;00m(\u001b[38;5;124m\"\u001b[39m\u001b[38;5;124mn must be >= 1 or None\u001b[39m\u001b[38;5;124m\"\u001b[39m)\n",
      "\u001b[1;31mValueError\u001b[0m: cannot convert float NaN to integer"
     ]
    },
    {
     "name": "stderr",
     "output_type": "stream",
     "text": [
      "posx and posy should be finite values\n",
      "posx and posy should be finite values\n",
      "posx and posy should be finite values\n",
      "posx and posy should be finite values\n"
     ]
    },
    {
     "ename": "ValueError",
     "evalue": "need at least one array to concatenate",
     "output_type": "error",
     "traceback": [
      "\u001b[1;31m---------------------------------------------------------------------------\u001b[0m",
      "\u001b[1;31mValueError\u001b[0m                                Traceback (most recent call last)",
      "File \u001b[1;32m~\\anaconda3\\Lib\\site-packages\\IPython\\core\\formatters.py:340\u001b[0m, in \u001b[0;36mBaseFormatter.__call__\u001b[1;34m(self, obj)\u001b[0m\n\u001b[0;32m    338\u001b[0m     \u001b[38;5;28;01mpass\u001b[39;00m\n\u001b[0;32m    339\u001b[0m \u001b[38;5;28;01melse\u001b[39;00m:\n\u001b[1;32m--> 340\u001b[0m     \u001b[38;5;28;01mreturn\u001b[39;00m printer(obj)\n\u001b[0;32m    341\u001b[0m \u001b[38;5;66;03m# Finally look for special method names\u001b[39;00m\n\u001b[0;32m    342\u001b[0m method \u001b[38;5;241m=\u001b[39m get_real_method(obj, \u001b[38;5;28mself\u001b[39m\u001b[38;5;241m.\u001b[39mprint_method)\n",
      "File \u001b[1;32m~\\anaconda3\\Lib\\site-packages\\IPython\\core\\pylabtools.py:152\u001b[0m, in \u001b[0;36mprint_figure\u001b[1;34m(fig, fmt, bbox_inches, base64, **kwargs)\u001b[0m\n\u001b[0;32m    149\u001b[0m     \u001b[38;5;28;01mfrom\u001b[39;00m \u001b[38;5;21;01mmatplotlib\u001b[39;00m\u001b[38;5;21;01m.\u001b[39;00m\u001b[38;5;21;01mbackend_bases\u001b[39;00m \u001b[38;5;28;01mimport\u001b[39;00m FigureCanvasBase\n\u001b[0;32m    150\u001b[0m     FigureCanvasBase(fig)\n\u001b[1;32m--> 152\u001b[0m fig\u001b[38;5;241m.\u001b[39mcanvas\u001b[38;5;241m.\u001b[39mprint_figure(bytes_io, \u001b[38;5;241m*\u001b[39m\u001b[38;5;241m*\u001b[39mkw)\n\u001b[0;32m    153\u001b[0m data \u001b[38;5;241m=\u001b[39m bytes_io\u001b[38;5;241m.\u001b[39mgetvalue()\n\u001b[0;32m    154\u001b[0m \u001b[38;5;28;01mif\u001b[39;00m fmt \u001b[38;5;241m==\u001b[39m \u001b[38;5;124m'\u001b[39m\u001b[38;5;124msvg\u001b[39m\u001b[38;5;124m'\u001b[39m:\n",
      "File \u001b[1;32m~\\anaconda3\\Lib\\site-packages\\matplotlib\\backend_bases.py:2346\u001b[0m, in \u001b[0;36mFigureCanvasBase.print_figure\u001b[1;34m(self, filename, dpi, facecolor, edgecolor, orientation, format, bbox_inches, pad_inches, bbox_extra_artists, backend, **kwargs)\u001b[0m\n\u001b[0;32m   2344\u001b[0m \u001b[38;5;28;01mif\u001b[39;00m bbox_inches:\n\u001b[0;32m   2345\u001b[0m     \u001b[38;5;28;01mif\u001b[39;00m bbox_inches \u001b[38;5;241m==\u001b[39m \u001b[38;5;124m\"\u001b[39m\u001b[38;5;124mtight\u001b[39m\u001b[38;5;124m\"\u001b[39m:\n\u001b[1;32m-> 2346\u001b[0m         bbox_inches \u001b[38;5;241m=\u001b[39m \u001b[38;5;28mself\u001b[39m\u001b[38;5;241m.\u001b[39mfigure\u001b[38;5;241m.\u001b[39mget_tightbbox(\n\u001b[0;32m   2347\u001b[0m             renderer, bbox_extra_artists\u001b[38;5;241m=\u001b[39mbbox_extra_artists)\n\u001b[0;32m   2348\u001b[0m         \u001b[38;5;28;01mif\u001b[39;00m pad_inches \u001b[38;5;129;01mis\u001b[39;00m \u001b[38;5;28;01mNone\u001b[39;00m:\n\u001b[0;32m   2349\u001b[0m             pad_inches \u001b[38;5;241m=\u001b[39m rcParams[\u001b[38;5;124m'\u001b[39m\u001b[38;5;124msavefig.pad_inches\u001b[39m\u001b[38;5;124m'\u001b[39m]\n",
      "File \u001b[1;32m~\\anaconda3\\Lib\\site-packages\\matplotlib\\figure.py:1776\u001b[0m, in \u001b[0;36mFigureBase.get_tightbbox\u001b[1;34m(self, renderer, bbox_extra_artists)\u001b[0m\n\u001b[0;32m   1773\u001b[0m     artists \u001b[38;5;241m=\u001b[39m bbox_extra_artists\n\u001b[0;32m   1775\u001b[0m \u001b[38;5;28;01mfor\u001b[39;00m a \u001b[38;5;129;01min\u001b[39;00m artists:\n\u001b[1;32m-> 1776\u001b[0m     bbox \u001b[38;5;241m=\u001b[39m a\u001b[38;5;241m.\u001b[39mget_tightbbox(renderer)\n\u001b[0;32m   1777\u001b[0m     \u001b[38;5;28;01mif\u001b[39;00m bbox \u001b[38;5;129;01mis\u001b[39;00m \u001b[38;5;129;01mnot\u001b[39;00m \u001b[38;5;28;01mNone\u001b[39;00m:\n\u001b[0;32m   1778\u001b[0m         bb\u001b[38;5;241m.\u001b[39mappend(bbox)\n",
      "File \u001b[1;32m~\\anaconda3\\Lib\\site-packages\\matplotlib\\axes\\_base.py:4408\u001b[0m, in \u001b[0;36m_AxesBase.get_tightbbox\u001b[1;34m(self, renderer, call_axes_locator, bbox_extra_artists, for_layout_only)\u001b[0m\n\u001b[0;32m   4405\u001b[0m     bbox_artists \u001b[38;5;241m=\u001b[39m \u001b[38;5;28mself\u001b[39m\u001b[38;5;241m.\u001b[39mget_default_bbox_extra_artists()\n\u001b[0;32m   4407\u001b[0m \u001b[38;5;28;01mfor\u001b[39;00m a \u001b[38;5;129;01min\u001b[39;00m bbox_artists:\n\u001b[1;32m-> 4408\u001b[0m     bbox \u001b[38;5;241m=\u001b[39m a\u001b[38;5;241m.\u001b[39mget_tightbbox(renderer)\n\u001b[0;32m   4409\u001b[0m     \u001b[38;5;28;01mif\u001b[39;00m (bbox \u001b[38;5;129;01mis\u001b[39;00m \u001b[38;5;129;01mnot\u001b[39;00m \u001b[38;5;28;01mNone\u001b[39;00m\n\u001b[0;32m   4410\u001b[0m             \u001b[38;5;129;01mand\u001b[39;00m \u001b[38;5;241m0\u001b[39m \u001b[38;5;241m<\u001b[39m bbox\u001b[38;5;241m.\u001b[39mwidth \u001b[38;5;241m<\u001b[39m np\u001b[38;5;241m.\u001b[39minf\n\u001b[0;32m   4411\u001b[0m             \u001b[38;5;129;01mand\u001b[39;00m \u001b[38;5;241m0\u001b[39m \u001b[38;5;241m<\u001b[39m bbox\u001b[38;5;241m.\u001b[39mheight \u001b[38;5;241m<\u001b[39m np\u001b[38;5;241m.\u001b[39minf):\n\u001b[0;32m   4412\u001b[0m         bb\u001b[38;5;241m.\u001b[39mappend(bbox)\n",
      "File \u001b[1;32m~\\anaconda3\\Lib\\site-packages\\matplotlib\\artist.py:367\u001b[0m, in \u001b[0;36mArtist.get_tightbbox\u001b[1;34m(self, renderer)\u001b[0m\n\u001b[0;32m    352\u001b[0m \u001b[38;5;28;01mdef\u001b[39;00m \u001b[38;5;21mget_tightbbox\u001b[39m(\u001b[38;5;28mself\u001b[39m, renderer\u001b[38;5;241m=\u001b[39m\u001b[38;5;28;01mNone\u001b[39;00m):\n\u001b[0;32m    353\u001b[0m \u001b[38;5;250m    \u001b[39m\u001b[38;5;124;03m\"\"\"\u001b[39;00m\n\u001b[0;32m    354\u001b[0m \u001b[38;5;124;03m    Like `.Artist.get_window_extent`, but includes any clipping.\u001b[39;00m\n\u001b[0;32m    355\u001b[0m \n\u001b[1;32m   (...)\u001b[0m\n\u001b[0;32m    365\u001b[0m \u001b[38;5;124;03m        The enclosing bounding box (in figure pixel coordinates).\u001b[39;00m\n\u001b[0;32m    366\u001b[0m \u001b[38;5;124;03m    \"\"\"\u001b[39;00m\n\u001b[1;32m--> 367\u001b[0m     bbox \u001b[38;5;241m=\u001b[39m \u001b[38;5;28mself\u001b[39m\u001b[38;5;241m.\u001b[39mget_window_extent(renderer)\n\u001b[0;32m    368\u001b[0m     \u001b[38;5;28;01mif\u001b[39;00m \u001b[38;5;28mself\u001b[39m\u001b[38;5;241m.\u001b[39mget_clip_on():\n\u001b[0;32m    369\u001b[0m         clip_box \u001b[38;5;241m=\u001b[39m \u001b[38;5;28mself\u001b[39m\u001b[38;5;241m.\u001b[39mget_clip_box()\n",
      "File \u001b[1;32m~\\anaconda3\\Lib\\site-packages\\matplotlib\\patches.py:604\u001b[0m, in \u001b[0;36mPatch.get_window_extent\u001b[1;34m(self, renderer)\u001b[0m\n\u001b[0;32m    603\u001b[0m \u001b[38;5;28;01mdef\u001b[39;00m \u001b[38;5;21mget_window_extent\u001b[39m(\u001b[38;5;28mself\u001b[39m, renderer\u001b[38;5;241m=\u001b[39m\u001b[38;5;28;01mNone\u001b[39;00m):\n\u001b[1;32m--> 604\u001b[0m     \u001b[38;5;28;01mreturn\u001b[39;00m \u001b[38;5;28mself\u001b[39m\u001b[38;5;241m.\u001b[39mget_path()\u001b[38;5;241m.\u001b[39mget_extents(\u001b[38;5;28mself\u001b[39m\u001b[38;5;241m.\u001b[39mget_transform())\n",
      "File \u001b[1;32m~\\anaconda3\\Lib\\site-packages\\matplotlib\\path.py:638\u001b[0m, in \u001b[0;36mPath.get_extents\u001b[1;34m(self, transform, **kwargs)\u001b[0m\n\u001b[0;32m    636\u001b[0m         \u001b[38;5;66;03m# as can the ends of the curve\u001b[39;00m\n\u001b[0;32m    637\u001b[0m         xys\u001b[38;5;241m.\u001b[39mappend(curve([\u001b[38;5;241m0\u001b[39m, \u001b[38;5;241m*\u001b[39mdzeros, \u001b[38;5;241m1\u001b[39m]))\n\u001b[1;32m--> 638\u001b[0m     xys \u001b[38;5;241m=\u001b[39m np\u001b[38;5;241m.\u001b[39mconcatenate(xys)\n\u001b[0;32m    639\u001b[0m \u001b[38;5;28;01mif\u001b[39;00m \u001b[38;5;28mlen\u001b[39m(xys):\n\u001b[0;32m    640\u001b[0m     \u001b[38;5;28;01mreturn\u001b[39;00m Bbox([xys\u001b[38;5;241m.\u001b[39mmin(axis\u001b[38;5;241m=\u001b[39m\u001b[38;5;241m0\u001b[39m), xys\u001b[38;5;241m.\u001b[39mmax(axis\u001b[38;5;241m=\u001b[39m\u001b[38;5;241m0\u001b[39m)])\n",
      "File \u001b[1;32m<__array_function__ internals>:200\u001b[0m, in \u001b[0;36mconcatenate\u001b[1;34m(*args, **kwargs)\u001b[0m\n",
      "\u001b[1;31mValueError\u001b[0m: need at least one array to concatenate"
     ]
    },
    {
     "data": {
      "text/plain": [
       "<Figure size 640x480 with 1 Axes>"
      ]
     },
     "metadata": {},
     "output_type": "display_data"
    }
   ],
   "source": [
    "# Plot donut chart for TextBlob sentiment analysis\n",
    "labels = list([\"positive\", \"negative\", \"neutral\"])\n",
    "sizes = list([positive_textblob, negative_textblob, neutral_textblob])\n",
    "\n",
    "fig, ax = plt.subplots()\n",
    "wedges, texts, autotexts = ax.pie(sizes, labels=labels, autopct='%1.1f%%', startangle=90, colors=['lightgreen', 'lightcoral', 'lightskyblue'], wedgeprops={'width': 0.4})\n",
    "ax.axis('equal')  # Equal aspect ratio ensures that pie is drawn as a circle.\n",
    "\n",
    "# Add a circle at the center to transform the pie chart into a donut chart\n",
    "centre_circle = plt.Circle((0,0),0.70,fc='white')\n",
    "fig.gca().add_artist(centre_circle)\n",
    "\n",
    "ax.set_title('TextBlob Sentiment Analysis')\n",
    "\n",
    "plt.show()\n"
   ]
  },
  {
   "cell_type": "markdown",
   "id": "d72b516a4ea458c4",
   "metadata": {},
   "source": [
    "### Displays NaiveBayesAnalyzer Donut Chart (representing positive, neutral, and negative sentiment analyses)."
   ]
  },
  {
   "cell_type": "code",
   "execution_count": 11,
   "id": "809ee6088581707c",
   "metadata": {},
   "outputs": [
    {
     "ename": "ValueError",
     "evalue": "cannot convert float NaN to integer",
     "output_type": "error",
     "traceback": [
      "\u001b[1;31m---------------------------------------------------------------------------\u001b[0m",
      "\u001b[1;31mValueError\u001b[0m                                Traceback (most recent call last)",
      "Cell \u001b[1;32mIn[11], line 6\u001b[0m\n\u001b[0;32m      3\u001b[0m sizes \u001b[38;5;241m=\u001b[39m \u001b[38;5;28mlist\u001b[39m([positive_naive_bayes, negative_naive_bayes, neutral_naive_bayes])\n\u001b[0;32m      5\u001b[0m fig, ax \u001b[38;5;241m=\u001b[39m plt\u001b[38;5;241m.\u001b[39msubplots()\n\u001b[1;32m----> 6\u001b[0m wedges, texts, autotexts \u001b[38;5;241m=\u001b[39m ax\u001b[38;5;241m.\u001b[39mpie(sizes, labels\u001b[38;5;241m=\u001b[39mlabels, autopct\u001b[38;5;241m=\u001b[39m\u001b[38;5;124m'\u001b[39m\u001b[38;5;132;01m%1.1f\u001b[39;00m\u001b[38;5;132;01m%%\u001b[39;00m\u001b[38;5;124m'\u001b[39m, startangle\u001b[38;5;241m=\u001b[39m\u001b[38;5;241m90\u001b[39m, colors\u001b[38;5;241m=\u001b[39m[\u001b[38;5;124m'\u001b[39m\u001b[38;5;124mlightgreen\u001b[39m\u001b[38;5;124m'\u001b[39m, \u001b[38;5;124m'\u001b[39m\u001b[38;5;124mlightcoral\u001b[39m\u001b[38;5;124m'\u001b[39m, \u001b[38;5;124m'\u001b[39m\u001b[38;5;124mlightskyblue\u001b[39m\u001b[38;5;124m'\u001b[39m], wedgeprops\u001b[38;5;241m=\u001b[39m{\u001b[38;5;124m'\u001b[39m\u001b[38;5;124mwidth\u001b[39m\u001b[38;5;124m'\u001b[39m: \u001b[38;5;241m0.4\u001b[39m})\n\u001b[0;32m      7\u001b[0m ax\u001b[38;5;241m.\u001b[39maxis(\u001b[38;5;124m'\u001b[39m\u001b[38;5;124mequal\u001b[39m\u001b[38;5;124m'\u001b[39m)  \u001b[38;5;66;03m# Equal aspect ratio ensures that pie is drawn as a circle.\u001b[39;00m\n\u001b[0;32m      9\u001b[0m \u001b[38;5;66;03m# Add a circle at the center to transform the pie chart into a donut chart\u001b[39;00m\n",
      "File \u001b[1;32m~\\anaconda3\\Lib\\site-packages\\matplotlib\\__init__.py:1446\u001b[0m, in \u001b[0;36m_preprocess_data.<locals>.inner\u001b[1;34m(ax, data, *args, **kwargs)\u001b[0m\n\u001b[0;32m   1443\u001b[0m \u001b[38;5;129m@functools\u001b[39m\u001b[38;5;241m.\u001b[39mwraps(func)\n\u001b[0;32m   1444\u001b[0m \u001b[38;5;28;01mdef\u001b[39;00m \u001b[38;5;21minner\u001b[39m(ax, \u001b[38;5;241m*\u001b[39margs, data\u001b[38;5;241m=\u001b[39m\u001b[38;5;28;01mNone\u001b[39;00m, \u001b[38;5;241m*\u001b[39m\u001b[38;5;241m*\u001b[39mkwargs):\n\u001b[0;32m   1445\u001b[0m     \u001b[38;5;28;01mif\u001b[39;00m data \u001b[38;5;129;01mis\u001b[39;00m \u001b[38;5;28;01mNone\u001b[39;00m:\n\u001b[1;32m-> 1446\u001b[0m         \u001b[38;5;28;01mreturn\u001b[39;00m func(ax, \u001b[38;5;241m*\u001b[39m\u001b[38;5;28mmap\u001b[39m(sanitize_sequence, args), \u001b[38;5;241m*\u001b[39m\u001b[38;5;241m*\u001b[39mkwargs)\n\u001b[0;32m   1448\u001b[0m     bound \u001b[38;5;241m=\u001b[39m new_sig\u001b[38;5;241m.\u001b[39mbind(ax, \u001b[38;5;241m*\u001b[39margs, \u001b[38;5;241m*\u001b[39m\u001b[38;5;241m*\u001b[39mkwargs)\n\u001b[0;32m   1449\u001b[0m     auto_label \u001b[38;5;241m=\u001b[39m (bound\u001b[38;5;241m.\u001b[39marguments\u001b[38;5;241m.\u001b[39mget(label_namer)\n\u001b[0;32m   1450\u001b[0m                   \u001b[38;5;129;01mor\u001b[39;00m bound\u001b[38;5;241m.\u001b[39mkwargs\u001b[38;5;241m.\u001b[39mget(label_namer))\n",
      "File \u001b[1;32m~\\anaconda3\\Lib\\site-packages\\matplotlib\\axes\\_axes.py:3237\u001b[0m, in \u001b[0;36mAxes.pie\u001b[1;34m(self, x, explode, labels, colors, autopct, pctdistance, shadow, labeldistance, startangle, radius, counterclock, wedgeprops, textprops, center, frame, rotatelabels, normalize, hatch)\u001b[0m\n\u001b[0;32m   3234\u001b[0m x \u001b[38;5;241m+\u001b[39m\u001b[38;5;241m=\u001b[39m expl \u001b[38;5;241m*\u001b[39m math\u001b[38;5;241m.\u001b[39mcos(thetam)\n\u001b[0;32m   3235\u001b[0m y \u001b[38;5;241m+\u001b[39m\u001b[38;5;241m=\u001b[39m expl \u001b[38;5;241m*\u001b[39m math\u001b[38;5;241m.\u001b[39msin(thetam)\n\u001b[1;32m-> 3237\u001b[0m w \u001b[38;5;241m=\u001b[39m mpatches\u001b[38;5;241m.\u001b[39mWedge((x, y), radius, \u001b[38;5;241m360.\u001b[39m \u001b[38;5;241m*\u001b[39m \u001b[38;5;28mmin\u001b[39m(theta1, theta2),\n\u001b[0;32m   3238\u001b[0m                    \u001b[38;5;241m360.\u001b[39m \u001b[38;5;241m*\u001b[39m \u001b[38;5;28mmax\u001b[39m(theta1, theta2),\n\u001b[0;32m   3239\u001b[0m                    facecolor\u001b[38;5;241m=\u001b[39mget_next_color(),\n\u001b[0;32m   3240\u001b[0m                    hatch\u001b[38;5;241m=\u001b[39m\u001b[38;5;28mnext\u001b[39m(hatch_cycle),\n\u001b[0;32m   3241\u001b[0m                    clip_on\u001b[38;5;241m=\u001b[39m\u001b[38;5;28;01mFalse\u001b[39;00m,\n\u001b[0;32m   3242\u001b[0m                    label\u001b[38;5;241m=\u001b[39mlabel)\n\u001b[0;32m   3243\u001b[0m w\u001b[38;5;241m.\u001b[39mset(\u001b[38;5;241m*\u001b[39m\u001b[38;5;241m*\u001b[39mwedgeprops)\n\u001b[0;32m   3244\u001b[0m slices\u001b[38;5;241m.\u001b[39mappend(w)\n",
      "File \u001b[1;32m~\\anaconda3\\Lib\\site-packages\\matplotlib\\_api\\deprecation.py:454\u001b[0m, in \u001b[0;36mmake_keyword_only.<locals>.wrapper\u001b[1;34m(*args, **kwargs)\u001b[0m\n\u001b[0;32m    448\u001b[0m \u001b[38;5;28;01mif\u001b[39;00m \u001b[38;5;28mlen\u001b[39m(args) \u001b[38;5;241m>\u001b[39m name_idx:\n\u001b[0;32m    449\u001b[0m     warn_deprecated(\n\u001b[0;32m    450\u001b[0m         since, message\u001b[38;5;241m=\u001b[39m\u001b[38;5;124m\"\u001b[39m\u001b[38;5;124mPassing the \u001b[39m\u001b[38;5;132;01m%(name)s\u001b[39;00m\u001b[38;5;124m \u001b[39m\u001b[38;5;132;01m%(obj_type)s\u001b[39;00m\u001b[38;5;124m \u001b[39m\u001b[38;5;124m\"\u001b[39m\n\u001b[0;32m    451\u001b[0m         \u001b[38;5;124m\"\u001b[39m\u001b[38;5;124mpositionally is deprecated since Matplotlib \u001b[39m\u001b[38;5;132;01m%(since)s\u001b[39;00m\u001b[38;5;124m; the \u001b[39m\u001b[38;5;124m\"\u001b[39m\n\u001b[0;32m    452\u001b[0m         \u001b[38;5;124m\"\u001b[39m\u001b[38;5;124mparameter will become keyword-only \u001b[39m\u001b[38;5;132;01m%(removal)s\u001b[39;00m\u001b[38;5;124m.\u001b[39m\u001b[38;5;124m\"\u001b[39m,\n\u001b[0;32m    453\u001b[0m         name\u001b[38;5;241m=\u001b[39mname, obj_type\u001b[38;5;241m=\u001b[39m\u001b[38;5;124mf\u001b[39m\u001b[38;5;124m\"\u001b[39m\u001b[38;5;124mparameter of \u001b[39m\u001b[38;5;132;01m{\u001b[39;00mfunc\u001b[38;5;241m.\u001b[39m\u001b[38;5;18m__name__\u001b[39m\u001b[38;5;132;01m}\u001b[39;00m\u001b[38;5;124m()\u001b[39m\u001b[38;5;124m\"\u001b[39m)\n\u001b[1;32m--> 454\u001b[0m \u001b[38;5;28;01mreturn\u001b[39;00m func(\u001b[38;5;241m*\u001b[39margs, \u001b[38;5;241m*\u001b[39m\u001b[38;5;241m*\u001b[39mkwargs)\n",
      "File \u001b[1;32m~\\anaconda3\\Lib\\site-packages\\matplotlib\\patches.py:1195\u001b[0m, in \u001b[0;36mWedge.__init__\u001b[1;34m(self, center, r, theta1, theta2, width, **kwargs)\u001b[0m\n\u001b[0;32m   1193\u001b[0m \u001b[38;5;28mself\u001b[39m\u001b[38;5;241m.\u001b[39mtheta1, \u001b[38;5;28mself\u001b[39m\u001b[38;5;241m.\u001b[39mtheta2 \u001b[38;5;241m=\u001b[39m theta1, theta2\n\u001b[0;32m   1194\u001b[0m \u001b[38;5;28mself\u001b[39m\u001b[38;5;241m.\u001b[39m_patch_transform \u001b[38;5;241m=\u001b[39m transforms\u001b[38;5;241m.\u001b[39mIdentityTransform()\n\u001b[1;32m-> 1195\u001b[0m \u001b[38;5;28mself\u001b[39m\u001b[38;5;241m.\u001b[39m_recompute_path()\n",
      "File \u001b[1;32m~\\anaconda3\\Lib\\site-packages\\matplotlib\\patches.py:1207\u001b[0m, in \u001b[0;36mWedge._recompute_path\u001b[1;34m(self)\u001b[0m\n\u001b[0;32m   1204\u001b[0m     connector \u001b[38;5;241m=\u001b[39m Path\u001b[38;5;241m.\u001b[39mLINETO\n\u001b[0;32m   1206\u001b[0m \u001b[38;5;66;03m# Form the outer ring\u001b[39;00m\n\u001b[1;32m-> 1207\u001b[0m arc \u001b[38;5;241m=\u001b[39m Path\u001b[38;5;241m.\u001b[39marc(theta1, theta2)\n\u001b[0;32m   1209\u001b[0m \u001b[38;5;28;01mif\u001b[39;00m \u001b[38;5;28mself\u001b[39m\u001b[38;5;241m.\u001b[39mwidth \u001b[38;5;129;01mis\u001b[39;00m \u001b[38;5;129;01mnot\u001b[39;00m \u001b[38;5;28;01mNone\u001b[39;00m:\n\u001b[0;32m   1210\u001b[0m     \u001b[38;5;66;03m# Partial annulus needs to draw the outer ring\u001b[39;00m\n\u001b[0;32m   1211\u001b[0m     \u001b[38;5;66;03m# followed by a reversed and scaled inner ring\u001b[39;00m\n\u001b[0;32m   1212\u001b[0m     v1 \u001b[38;5;241m=\u001b[39m arc\u001b[38;5;241m.\u001b[39mvertices\n",
      "File \u001b[1;32m~\\anaconda3\\Lib\\site-packages\\matplotlib\\path.py:954\u001b[0m, in \u001b[0;36mPath.arc\u001b[1;34m(cls, theta1, theta2, n, is_wedge)\u001b[0m\n\u001b[0;32m    952\u001b[0m \u001b[38;5;66;03m# number of curve segments to make\u001b[39;00m\n\u001b[0;32m    953\u001b[0m \u001b[38;5;28;01mif\u001b[39;00m n \u001b[38;5;129;01mis\u001b[39;00m \u001b[38;5;28;01mNone\u001b[39;00m:\n\u001b[1;32m--> 954\u001b[0m     n \u001b[38;5;241m=\u001b[39m \u001b[38;5;28mint\u001b[39m(\u001b[38;5;241m2\u001b[39m \u001b[38;5;241m*\u001b[39m\u001b[38;5;241m*\u001b[39m np\u001b[38;5;241m.\u001b[39mceil((eta2 \u001b[38;5;241m-\u001b[39m eta1) \u001b[38;5;241m/\u001b[39m halfpi))\n\u001b[0;32m    955\u001b[0m \u001b[38;5;28;01mif\u001b[39;00m n \u001b[38;5;241m<\u001b[39m \u001b[38;5;241m1\u001b[39m:\n\u001b[0;32m    956\u001b[0m     \u001b[38;5;28;01mraise\u001b[39;00m \u001b[38;5;167;01mValueError\u001b[39;00m(\u001b[38;5;124m\"\u001b[39m\u001b[38;5;124mn must be >= 1 or None\u001b[39m\u001b[38;5;124m\"\u001b[39m)\n",
      "\u001b[1;31mValueError\u001b[0m: cannot convert float NaN to integer"
     ]
    },
    {
     "name": "stderr",
     "output_type": "stream",
     "text": [
      "posx and posy should be finite values\n",
      "posx and posy should be finite values\n",
      "posx and posy should be finite values\n",
      "posx and posy should be finite values\n"
     ]
    },
    {
     "ename": "ValueError",
     "evalue": "need at least one array to concatenate",
     "output_type": "error",
     "traceback": [
      "\u001b[1;31m---------------------------------------------------------------------------\u001b[0m",
      "\u001b[1;31mValueError\u001b[0m                                Traceback (most recent call last)",
      "File \u001b[1;32m~\\anaconda3\\Lib\\site-packages\\IPython\\core\\formatters.py:340\u001b[0m, in \u001b[0;36mBaseFormatter.__call__\u001b[1;34m(self, obj)\u001b[0m\n\u001b[0;32m    338\u001b[0m     \u001b[38;5;28;01mpass\u001b[39;00m\n\u001b[0;32m    339\u001b[0m \u001b[38;5;28;01melse\u001b[39;00m:\n\u001b[1;32m--> 340\u001b[0m     \u001b[38;5;28;01mreturn\u001b[39;00m printer(obj)\n\u001b[0;32m    341\u001b[0m \u001b[38;5;66;03m# Finally look for special method names\u001b[39;00m\n\u001b[0;32m    342\u001b[0m method \u001b[38;5;241m=\u001b[39m get_real_method(obj, \u001b[38;5;28mself\u001b[39m\u001b[38;5;241m.\u001b[39mprint_method)\n",
      "File \u001b[1;32m~\\anaconda3\\Lib\\site-packages\\IPython\\core\\pylabtools.py:152\u001b[0m, in \u001b[0;36mprint_figure\u001b[1;34m(fig, fmt, bbox_inches, base64, **kwargs)\u001b[0m\n\u001b[0;32m    149\u001b[0m     \u001b[38;5;28;01mfrom\u001b[39;00m \u001b[38;5;21;01mmatplotlib\u001b[39;00m\u001b[38;5;21;01m.\u001b[39;00m\u001b[38;5;21;01mbackend_bases\u001b[39;00m \u001b[38;5;28;01mimport\u001b[39;00m FigureCanvasBase\n\u001b[0;32m    150\u001b[0m     FigureCanvasBase(fig)\n\u001b[1;32m--> 152\u001b[0m fig\u001b[38;5;241m.\u001b[39mcanvas\u001b[38;5;241m.\u001b[39mprint_figure(bytes_io, \u001b[38;5;241m*\u001b[39m\u001b[38;5;241m*\u001b[39mkw)\n\u001b[0;32m    153\u001b[0m data \u001b[38;5;241m=\u001b[39m bytes_io\u001b[38;5;241m.\u001b[39mgetvalue()\n\u001b[0;32m    154\u001b[0m \u001b[38;5;28;01mif\u001b[39;00m fmt \u001b[38;5;241m==\u001b[39m \u001b[38;5;124m'\u001b[39m\u001b[38;5;124msvg\u001b[39m\u001b[38;5;124m'\u001b[39m:\n",
      "File \u001b[1;32m~\\anaconda3\\Lib\\site-packages\\matplotlib\\backend_bases.py:2346\u001b[0m, in \u001b[0;36mFigureCanvasBase.print_figure\u001b[1;34m(self, filename, dpi, facecolor, edgecolor, orientation, format, bbox_inches, pad_inches, bbox_extra_artists, backend, **kwargs)\u001b[0m\n\u001b[0;32m   2344\u001b[0m \u001b[38;5;28;01mif\u001b[39;00m bbox_inches:\n\u001b[0;32m   2345\u001b[0m     \u001b[38;5;28;01mif\u001b[39;00m bbox_inches \u001b[38;5;241m==\u001b[39m \u001b[38;5;124m\"\u001b[39m\u001b[38;5;124mtight\u001b[39m\u001b[38;5;124m\"\u001b[39m:\n\u001b[1;32m-> 2346\u001b[0m         bbox_inches \u001b[38;5;241m=\u001b[39m \u001b[38;5;28mself\u001b[39m\u001b[38;5;241m.\u001b[39mfigure\u001b[38;5;241m.\u001b[39mget_tightbbox(\n\u001b[0;32m   2347\u001b[0m             renderer, bbox_extra_artists\u001b[38;5;241m=\u001b[39mbbox_extra_artists)\n\u001b[0;32m   2348\u001b[0m         \u001b[38;5;28;01mif\u001b[39;00m pad_inches \u001b[38;5;129;01mis\u001b[39;00m \u001b[38;5;28;01mNone\u001b[39;00m:\n\u001b[0;32m   2349\u001b[0m             pad_inches \u001b[38;5;241m=\u001b[39m rcParams[\u001b[38;5;124m'\u001b[39m\u001b[38;5;124msavefig.pad_inches\u001b[39m\u001b[38;5;124m'\u001b[39m]\n",
      "File \u001b[1;32m~\\anaconda3\\Lib\\site-packages\\matplotlib\\figure.py:1776\u001b[0m, in \u001b[0;36mFigureBase.get_tightbbox\u001b[1;34m(self, renderer, bbox_extra_artists)\u001b[0m\n\u001b[0;32m   1773\u001b[0m     artists \u001b[38;5;241m=\u001b[39m bbox_extra_artists\n\u001b[0;32m   1775\u001b[0m \u001b[38;5;28;01mfor\u001b[39;00m a \u001b[38;5;129;01min\u001b[39;00m artists:\n\u001b[1;32m-> 1776\u001b[0m     bbox \u001b[38;5;241m=\u001b[39m a\u001b[38;5;241m.\u001b[39mget_tightbbox(renderer)\n\u001b[0;32m   1777\u001b[0m     \u001b[38;5;28;01mif\u001b[39;00m bbox \u001b[38;5;129;01mis\u001b[39;00m \u001b[38;5;129;01mnot\u001b[39;00m \u001b[38;5;28;01mNone\u001b[39;00m:\n\u001b[0;32m   1778\u001b[0m         bb\u001b[38;5;241m.\u001b[39mappend(bbox)\n",
      "File \u001b[1;32m~\\anaconda3\\Lib\\site-packages\\matplotlib\\axes\\_base.py:4408\u001b[0m, in \u001b[0;36m_AxesBase.get_tightbbox\u001b[1;34m(self, renderer, call_axes_locator, bbox_extra_artists, for_layout_only)\u001b[0m\n\u001b[0;32m   4405\u001b[0m     bbox_artists \u001b[38;5;241m=\u001b[39m \u001b[38;5;28mself\u001b[39m\u001b[38;5;241m.\u001b[39mget_default_bbox_extra_artists()\n\u001b[0;32m   4407\u001b[0m \u001b[38;5;28;01mfor\u001b[39;00m a \u001b[38;5;129;01min\u001b[39;00m bbox_artists:\n\u001b[1;32m-> 4408\u001b[0m     bbox \u001b[38;5;241m=\u001b[39m a\u001b[38;5;241m.\u001b[39mget_tightbbox(renderer)\n\u001b[0;32m   4409\u001b[0m     \u001b[38;5;28;01mif\u001b[39;00m (bbox \u001b[38;5;129;01mis\u001b[39;00m \u001b[38;5;129;01mnot\u001b[39;00m \u001b[38;5;28;01mNone\u001b[39;00m\n\u001b[0;32m   4410\u001b[0m             \u001b[38;5;129;01mand\u001b[39;00m \u001b[38;5;241m0\u001b[39m \u001b[38;5;241m<\u001b[39m bbox\u001b[38;5;241m.\u001b[39mwidth \u001b[38;5;241m<\u001b[39m np\u001b[38;5;241m.\u001b[39minf\n\u001b[0;32m   4411\u001b[0m             \u001b[38;5;129;01mand\u001b[39;00m \u001b[38;5;241m0\u001b[39m \u001b[38;5;241m<\u001b[39m bbox\u001b[38;5;241m.\u001b[39mheight \u001b[38;5;241m<\u001b[39m np\u001b[38;5;241m.\u001b[39minf):\n\u001b[0;32m   4412\u001b[0m         bb\u001b[38;5;241m.\u001b[39mappend(bbox)\n",
      "File \u001b[1;32m~\\anaconda3\\Lib\\site-packages\\matplotlib\\artist.py:367\u001b[0m, in \u001b[0;36mArtist.get_tightbbox\u001b[1;34m(self, renderer)\u001b[0m\n\u001b[0;32m    352\u001b[0m \u001b[38;5;28;01mdef\u001b[39;00m \u001b[38;5;21mget_tightbbox\u001b[39m(\u001b[38;5;28mself\u001b[39m, renderer\u001b[38;5;241m=\u001b[39m\u001b[38;5;28;01mNone\u001b[39;00m):\n\u001b[0;32m    353\u001b[0m \u001b[38;5;250m    \u001b[39m\u001b[38;5;124;03m\"\"\"\u001b[39;00m\n\u001b[0;32m    354\u001b[0m \u001b[38;5;124;03m    Like `.Artist.get_window_extent`, but includes any clipping.\u001b[39;00m\n\u001b[0;32m    355\u001b[0m \n\u001b[1;32m   (...)\u001b[0m\n\u001b[0;32m    365\u001b[0m \u001b[38;5;124;03m        The enclosing bounding box (in figure pixel coordinates).\u001b[39;00m\n\u001b[0;32m    366\u001b[0m \u001b[38;5;124;03m    \"\"\"\u001b[39;00m\n\u001b[1;32m--> 367\u001b[0m     bbox \u001b[38;5;241m=\u001b[39m \u001b[38;5;28mself\u001b[39m\u001b[38;5;241m.\u001b[39mget_window_extent(renderer)\n\u001b[0;32m    368\u001b[0m     \u001b[38;5;28;01mif\u001b[39;00m \u001b[38;5;28mself\u001b[39m\u001b[38;5;241m.\u001b[39mget_clip_on():\n\u001b[0;32m    369\u001b[0m         clip_box \u001b[38;5;241m=\u001b[39m \u001b[38;5;28mself\u001b[39m\u001b[38;5;241m.\u001b[39mget_clip_box()\n",
      "File \u001b[1;32m~\\anaconda3\\Lib\\site-packages\\matplotlib\\patches.py:604\u001b[0m, in \u001b[0;36mPatch.get_window_extent\u001b[1;34m(self, renderer)\u001b[0m\n\u001b[0;32m    603\u001b[0m \u001b[38;5;28;01mdef\u001b[39;00m \u001b[38;5;21mget_window_extent\u001b[39m(\u001b[38;5;28mself\u001b[39m, renderer\u001b[38;5;241m=\u001b[39m\u001b[38;5;28;01mNone\u001b[39;00m):\n\u001b[1;32m--> 604\u001b[0m     \u001b[38;5;28;01mreturn\u001b[39;00m \u001b[38;5;28mself\u001b[39m\u001b[38;5;241m.\u001b[39mget_path()\u001b[38;5;241m.\u001b[39mget_extents(\u001b[38;5;28mself\u001b[39m\u001b[38;5;241m.\u001b[39mget_transform())\n",
      "File \u001b[1;32m~\\anaconda3\\Lib\\site-packages\\matplotlib\\path.py:638\u001b[0m, in \u001b[0;36mPath.get_extents\u001b[1;34m(self, transform, **kwargs)\u001b[0m\n\u001b[0;32m    636\u001b[0m         \u001b[38;5;66;03m# as can the ends of the curve\u001b[39;00m\n\u001b[0;32m    637\u001b[0m         xys\u001b[38;5;241m.\u001b[39mappend(curve([\u001b[38;5;241m0\u001b[39m, \u001b[38;5;241m*\u001b[39mdzeros, \u001b[38;5;241m1\u001b[39m]))\n\u001b[1;32m--> 638\u001b[0m     xys \u001b[38;5;241m=\u001b[39m np\u001b[38;5;241m.\u001b[39mconcatenate(xys)\n\u001b[0;32m    639\u001b[0m \u001b[38;5;28;01mif\u001b[39;00m \u001b[38;5;28mlen\u001b[39m(xys):\n\u001b[0;32m    640\u001b[0m     \u001b[38;5;28;01mreturn\u001b[39;00m Bbox([xys\u001b[38;5;241m.\u001b[39mmin(axis\u001b[38;5;241m=\u001b[39m\u001b[38;5;241m0\u001b[39m), xys\u001b[38;5;241m.\u001b[39mmax(axis\u001b[38;5;241m=\u001b[39m\u001b[38;5;241m0\u001b[39m)])\n",
      "File \u001b[1;32m<__array_function__ internals>:200\u001b[0m, in \u001b[0;36mconcatenate\u001b[1;34m(*args, **kwargs)\u001b[0m\n",
      "\u001b[1;31mValueError\u001b[0m: need at least one array to concatenate"
     ]
    },
    {
     "data": {
      "text/plain": [
       "<Figure size 640x480 with 1 Axes>"
      ]
     },
     "metadata": {},
     "output_type": "display_data"
    }
   ],
   "source": [
    "# Plot donut chart for NaiveBayes sentiment analysis\n",
    "labels = list([\"positive\", \"negative\", \"neutral\"])\n",
    "sizes = list([positive_naive_bayes, negative_naive_bayes, neutral_naive_bayes])\n",
    "\n",
    "fig, ax = plt.subplots()\n",
    "wedges, texts, autotexts = ax.pie(sizes, labels=labels, autopct='%1.1f%%', startangle=90, colors=['lightgreen', 'lightcoral', 'lightskyblue'], wedgeprops={'width': 0.4})\n",
    "ax.axis('equal')  # Equal aspect ratio ensures that pie is drawn as a circle.\n",
    "\n",
    "# Add a circle at the center to transform the pie chart into a donut chart\n",
    "centre_circle = plt.Circle((0,0),0.70,fc='white')\n",
    "fig.gca().add_artist(centre_circle)\n",
    "\n",
    "ax.set_title('NaiveBayes Sentiment Analysis')\n",
    "\n",
    "plt.show()\n"
   ]
  },
  {
   "cell_type": "markdown",
   "id": "3713929005893655",
   "metadata": {},
   "source": [
    "### Unfortunately, no conclusions were made due to an error found in the code of the project. The inability to locate the key 'reviews' made it so that the reviews of each company could not be processed, and therefore no sentiment analysis was done. However, the code for the sentiment analysis portions as well as the word cloud were programmed so that if the key was found the code would properly work and display all necessary information to draw conclusions. "
   ]
  },
  {
   "cell_type": "markdown",
   "id": "30bac393b279d12b",
   "metadata": {},
   "source": [
    "### Word Cloud of the top 20 words"
   ]
  },
  {
   "cell_type": "code",
   "execution_count": 12,
   "id": "4b0a80b48b60b683",
   "metadata": {},
   "outputs": [
    {
     "name": "stdout",
     "output_type": "stream",
     "text": [
      "[]\n"
     ]
    },
    {
     "ename": "ValueError",
     "evalue": "We need at least 1 word to plot a word cloud, got 0.",
     "output_type": "error",
     "traceback": [
      "\u001b[1;31m---------------------------------------------------------------------------\u001b[0m",
      "\u001b[1;31mValueError\u001b[0m                                Traceback (most recent call last)",
      "Cell \u001b[1;32mIn[12], line 14\u001b[0m\n\u001b[0;32m     12\u001b[0m \u001b[38;5;66;03m# Generate the word cloud\u001b[39;00m\n\u001b[0;32m     13\u001b[0m \u001b[38;5;28mprint\u001b[39m(wordsc)\n\u001b[1;32m---> 14\u001b[0m generate_wordcloud(wordsc)\n",
      "Cell \u001b[1;32mIn[12], line 5\u001b[0m, in \u001b[0;36mgenerate_wordcloud\u001b[1;34m(review_texts)\u001b[0m\n\u001b[0;32m      3\u001b[0m wordFreq \u001b[38;5;241m=\u001b[39m Counter(words\u001b[38;5;241m.\u001b[39msplit())\n\u001b[0;32m      4\u001b[0m wordsc \u001b[38;5;241m=\u001b[39m WordCloud(width\u001b[38;5;241m=\u001b[39m\u001b[38;5;241m800\u001b[39m, height\u001b[38;5;241m=\u001b[39m\u001b[38;5;241m400\u001b[39m, background_color\u001b[38;5;241m=\u001b[39m\u001b[38;5;124m'\u001b[39m\u001b[38;5;124mwhite\u001b[39m\u001b[38;5;124m'\u001b[39m, colormap\u001b[38;5;241m=\u001b[39m\u001b[38;5;124m'\u001b[39m\u001b[38;5;124mprism\u001b[39m\u001b[38;5;124m'\u001b[39m, max_words\u001b[38;5;241m=\u001b[39m\u001b[38;5;241m20\u001b[39m)\n\u001b[1;32m----> 5\u001b[0m wordsc\u001b[38;5;241m.\u001b[39mgenerate_from_frequencies(wordFreq)\n\u001b[0;32m      7\u001b[0m plt\u001b[38;5;241m.\u001b[39mfigure(figsize\u001b[38;5;241m=\u001b[39m(\u001b[38;5;241m10\u001b[39m, \u001b[38;5;241m5\u001b[39m))\n\u001b[0;32m      8\u001b[0m plt\u001b[38;5;241m.\u001b[39mimshow(wordsc, interpolation\u001b[38;5;241m=\u001b[39m\u001b[38;5;124m'\u001b[39m\u001b[38;5;124mbilinear\u001b[39m\u001b[38;5;124m'\u001b[39m)\n",
      "File \u001b[1;32m~\\anaconda3\\Lib\\site-packages\\wordcloud\\wordcloud.py:410\u001b[0m, in \u001b[0;36mWordCloud.generate_from_frequencies\u001b[1;34m(self, frequencies, max_font_size)\u001b[0m\n\u001b[0;32m    408\u001b[0m frequencies \u001b[38;5;241m=\u001b[39m \u001b[38;5;28msorted\u001b[39m(frequencies\u001b[38;5;241m.\u001b[39mitems(), key\u001b[38;5;241m=\u001b[39mitemgetter(\u001b[38;5;241m1\u001b[39m), reverse\u001b[38;5;241m=\u001b[39m\u001b[38;5;28;01mTrue\u001b[39;00m)\n\u001b[0;32m    409\u001b[0m \u001b[38;5;28;01mif\u001b[39;00m \u001b[38;5;28mlen\u001b[39m(frequencies) \u001b[38;5;241m<\u001b[39m\u001b[38;5;241m=\u001b[39m \u001b[38;5;241m0\u001b[39m:\n\u001b[1;32m--> 410\u001b[0m     \u001b[38;5;28;01mraise\u001b[39;00m \u001b[38;5;167;01mValueError\u001b[39;00m(\u001b[38;5;124m\"\u001b[39m\u001b[38;5;124mWe need at least 1 word to plot a word cloud, \u001b[39m\u001b[38;5;124m\"\u001b[39m\n\u001b[0;32m    411\u001b[0m                      \u001b[38;5;124m\"\u001b[39m\u001b[38;5;124mgot \u001b[39m\u001b[38;5;132;01m%d\u001b[39;00m\u001b[38;5;124m.\u001b[39m\u001b[38;5;124m\"\u001b[39m \u001b[38;5;241m%\u001b[39m \u001b[38;5;28mlen\u001b[39m(frequencies))\n\u001b[0;32m    412\u001b[0m frequencies \u001b[38;5;241m=\u001b[39m frequencies[:\u001b[38;5;28mself\u001b[39m\u001b[38;5;241m.\u001b[39mmax_words]\n\u001b[0;32m    414\u001b[0m \u001b[38;5;66;03m# largest entry will be 1\u001b[39;00m\n",
      "\u001b[1;31mValueError\u001b[0m: We need at least 1 word to plot a word cloud, got 0."
     ]
    }
   ],
   "source": [
    "def generate_wordcloud(review_texts):\n",
    "    words = ' '.join(review_texts)\n",
    "    wordFreq = Counter(words.split())\n",
    "    wordsc = WordCloud(width=800, height=400, background_color='white', colormap='prism', max_words=20)\n",
    "    wordsc.generate_from_frequencies(wordFreq)\n",
    "\n",
    "    plt.figure(figsize=(10, 5))\n",
    "    plt.imshow(wordsc, interpolation='bilinear')\n",
    "    plt.axis('off')\n",
    "    plt.show()\n",
    "\n",
    "# Generate the word cloud\n",
    "print(wordsc)\n",
    "generate_wordcloud(wordsc)"
   ]
  },
  {
   "cell_type": "code",
   "execution_count": null,
   "id": "e896334fe8d0b39d",
   "metadata": {},
   "outputs": [],
   "source": []
  },
  {
   "cell_type": "code",
   "execution_count": null,
   "id": "ddfd2b47d1b9c0a6",
   "metadata": {},
   "outputs": [],
   "source": []
  }
 ],
 "metadata": {
  "kernelspec": {
   "display_name": "Python 3 (ipykernel)",
   "language": "python",
   "name": "python3"
  },
  "language_info": {
   "codemirror_mode": {
    "name": "ipython",
    "version": 3
   },
   "file_extension": ".py",
   "mimetype": "text/x-python",
   "name": "python",
   "nbconvert_exporter": "python",
   "pygments_lexer": "ipython3",
   "version": "3.11.5"
  }
 },
 "nbformat": 4,
 "nbformat_minor": 5
}
